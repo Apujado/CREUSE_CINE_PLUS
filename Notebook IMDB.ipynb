{
    "cells": [
        {
            "cell_type": "code",
            "metadata": {
                "source_hash": "360f2cae",
                "execution_start": 1748612826154,
                "execution_millis": 7411,
                "execution_context_id": "4e5321f0-ec9f-41a2-9781-65b6aeff5125",
                "cell_id": "7ad7e4ee40034cb0905c89f46a7d883f",
                "deepnote_cell_type": "code"
            },
            "source": "import pandas as pd \ndf = pd.read_csv('/work/IMDB_FR.tsv.gz', sep='\\t')\ndf.shape",
            "block_group": "7ad7e4ee40034cb0905c89f46a7d883f",
            "execution_count": 28,
            "outputs": [
                {
                    "name": "stderr",
                    "text": "/tmp/ipykernel_40/2562719240.py:2: DtypeWarning: Columns (20) have mixed types. Specify dtype option on import or set low_memory=False.\n  df = pd.read_csv('/work/IMDB_FR.tsv.gz', sep='\\t')\n",
                    "output_type": "stream"
                },
                {
                    "output_type": "execute_result",
                    "execution_count": 28,
                    "data": {
                        "text/plain": "(624046, 27)"
                    },
                    "metadata": {}
                }
            ],
            "outputs_reference": "dbtable:cell_outputs/08103f5f-17d9-4e9a-ab78-a31e8d38a161",
            "content_dependencies": null
        },
        {
            "cell_type": "code",
            "metadata": {
                "source_hash": "f30f989a",
                "execution_start": 1748612837961,
                "execution_millis": 43,
                "deepnote_table_state": {
                    "sortBy": [],
                    "filters": [],
                    "pageSize": 25,
                    "pageIndex": 0,
                    "columnOrder": [
                        "tconst",
                        "ordering",
                        "title",
                        "region",
                        "language",
                        "types",
                        "attributes",
                        "isOriginalTitle",
                        "nconst",
                        "primaryName",
                        "job_1",
                        "job_2",
                        "job_3",
                        "film_1",
                        "film_2",
                        "film_3",
                        "film_4",
                        "titleType",
                        "primaryTitle",
                        "originalTitle",
                        "startYear",
                        "runtimeMinutes",
                        "genres",
                        "directors",
                        "averageRating",
                        "numVotes",
                        "category"
                    ],
                    "hiddenColumnIds": [],
                    "columnDisplayNames": [],
                    "conditionalFilters": [],
                    "cellFormattingRules": [],
                    "wrappedTextColumnIds": []
                },
                "execution_context_id": "4e5321f0-ec9f-41a2-9781-65b6aeff5125",
                "deepnote_table_loading": false,
                "cell_id": "74b986a0a2e047ecb71530cafd90f07e",
                "deepnote_cell_type": "code"
            },
            "source": "df.head(10)",
            "block_group": "9e64574ec0954c73b2045df8a8baa68c",
            "execution_count": 31,
            "outputs": [
                {
                    "output_type": "execute_result",
                    "execution_count": 31,
                    "data": {
                        "application/vnd.deepnote.dataframe.v3+json": {
                            "column_count": 27,
                            "row_count": 10,
                            "columns": [
                                {
                                    "name": "tconst",
                                    "dtype": "object",
                                    "stats": {
                                        "unique_count": 5,
                                        "nan_count": 0,
                                        "categories": [
                                            {
                                                "name": "tt0001101",
                                                "count": 3
                                            },
                                            {
                                                "name": "tt0001122",
                                                "count": 3
                                            },
                                            {
                                                "name": "3 others",
                                                "count": 4
                                            }
                                        ]
                                    }
                                },
                                {
                                    "name": "ordering",
                                    "dtype": "int64",
                                    "stats": {
                                        "unique_count": 3,
                                        "nan_count": 0,
                                        "min": "2",
                                        "max": "7",
                                        "histogram": [
                                            {
                                                "bin_start": 2,
                                                "bin_end": 2.5,
                                                "count": 6
                                            },
                                            {
                                                "bin_start": 2.5,
                                                "bin_end": 3,
                                                "count": 0
                                            },
                                            {
                                                "bin_start": 3,
                                                "bin_end": 3.5,
                                                "count": 0
                                            },
                                            {
                                                "bin_start": 3.5,
                                                "bin_end": 4,
                                                "count": 0
                                            },
                                            {
                                                "bin_start": 4,
                                                "bin_end": 4.5,
                                                "count": 3
                                            },
                                            {
                                                "bin_start": 4.5,
                                                "bin_end": 5,
                                                "count": 0
                                            },
                                            {
                                                "bin_start": 5,
                                                "bin_end": 5.5,
                                                "count": 0
                                            },
                                            {
                                                "bin_start": 5.5,
                                                "bin_end": 6,
                                                "count": 0
                                            },
                                            {
                                                "bin_start": 6,
                                                "bin_end": 6.5,
                                                "count": 0
                                            },
                                            {
                                                "bin_start": 6.5,
                                                "bin_end": 7,
                                                "count": 1
                                            }
                                        ]
                                    }
                                },
                                {
                                    "name": "title",
                                    "dtype": "object",
                                    "stats": {
                                        "unique_count": 5,
                                        "nan_count": 0,
                                        "categories": [
                                            {
                                                "name": "La Clémence d'Abraham Lincoln",
                                                "count": 3
                                            },
                                            {
                                                "name": "L'auberge rouge",
                                                "count": 3
                                            },
                                            {
                                                "name": "3 others",
                                                "count": 4
                                            }
                                        ]
                                    }
                                },
                                {
                                    "name": "region",
                                    "dtype": "object",
                                    "stats": {
                                        "unique_count": 1,
                                        "nan_count": 0,
                                        "categories": [
                                            {
                                                "name": "FR",
                                                "count": 10
                                            }
                                        ]
                                    }
                                },
                                {
                                    "name": "language",
                                    "dtype": "object",
                                    "stats": {
                                        "unique_count": 1,
                                        "nan_count": 0,
                                        "categories": [
                                            {
                                                "name": "\\N",
                                                "count": 10
                                            }
                                        ]
                                    }
                                },
                                {
                                    "name": "types",
                                    "dtype": "object",
                                    "stats": {
                                        "unique_count": 1,
                                        "nan_count": 0,
                                        "categories": [
                                            {
                                                "name": "imdbDisplay",
                                                "count": 10
                                            }
                                        ]
                                    }
                                },
                                {
                                    "name": "attributes",
                                    "dtype": "object",
                                    "stats": {
                                        "unique_count": 1,
                                        "nan_count": 0,
                                        "categories": [
                                            {
                                                "name": "\\N",
                                                "count": 10
                                            }
                                        ]
                                    }
                                },
                                {
                                    "name": "isOriginalTitle",
                                    "dtype": "int64",
                                    "stats": {
                                        "unique_count": 1,
                                        "nan_count": 0,
                                        "min": "0",
                                        "max": "0",
                                        "histogram": [
                                            {
                                                "bin_start": -0.5,
                                                "bin_end": -0.4,
                                                "count": 0
                                            },
                                            {
                                                "bin_start": -0.4,
                                                "bin_end": -0.3,
                                                "count": 0
                                            },
                                            {
                                                "bin_start": -0.3,
                                                "bin_end": -0.19999999999999996,
                                                "count": 0
                                            },
                                            {
                                                "bin_start": -0.19999999999999996,
                                                "bin_end": -0.09999999999999998,
                                                "count": 0
                                            },
                                            {
                                                "bin_start": -0.09999999999999998,
                                                "bin_end": 0,
                                                "count": 0
                                            },
                                            {
                                                "bin_start": 0,
                                                "bin_end": 0.10000000000000009,
                                                "count": 10
                                            },
                                            {
                                                "bin_start": 0.10000000000000009,
                                                "bin_end": 0.20000000000000007,
                                                "count": 0
                                            },
                                            {
                                                "bin_start": 0.20000000000000007,
                                                "bin_end": 0.30000000000000004,
                                                "count": 0
                                            },
                                            {
                                                "bin_start": 0.30000000000000004,
                                                "bin_end": 0.4,
                                                "count": 0
                                            },
                                            {
                                                "bin_start": 0.4,
                                                "bin_end": 0.5,
                                                "count": 0
                                            }
                                        ]
                                    }
                                },
                                {
                                    "name": "nconst",
                                    "dtype": "object",
                                    "stats": {
                                        "unique_count": 8,
                                        "nan_count": 0,
                                        "categories": [
                                            {
                                                "name": "nm0141150",
                                                "count": 2
                                            },
                                            {
                                                "name": "nm0923603",
                                                "count": 2
                                            },
                                            {
                                                "name": "6 others",
                                                "count": 6
                                            }
                                        ]
                                    }
                                },
                                {
                                    "name": "primaryName",
                                    "dtype": "object",
                                    "stats": {
                                        "unique_count": 8,
                                        "nan_count": 0,
                                        "categories": [
                                            {
                                                "name": "Michel Carré",
                                                "count": 2
                                            },
                                            {
                                                "name": "Theodore Wharton",
                                                "count": 2
                                            },
                                            {
                                                "name": "6 others",
                                                "count": 6
                                            }
                                        ]
                                    }
                                },
                                {
                                    "name": "job_1",
                                    "dtype": "object",
                                    "stats": {
                                        "unique_count": 3,
                                        "nan_count": 0,
                                        "categories": [
                                            {
                                                "name": "director",
                                                "count": 5
                                            },
                                            {
                                                "name": "writer",
                                                "count": 3
                                            },
                                            {
                                                "name": "actress",
                                                "count": 2
                                            }
                                        ]
                                    }
                                },
                                {
                                    "name": "job_2",
                                    "dtype": "object",
                                    "stats": {
                                        "unique_count": 6,
                                        "nan_count": 0,
                                        "categories": [
                                            {
                                                "name": "writer",
                                                "count": 3
                                            },
                                            {
                                                "name": "producer",
                                                "count": 3
                                            },
                                            {
                                                "name": "4 others",
                                                "count": 4
                                            }
                                        ]
                                    }
                                },
                                {
                                    "name": "job_3",
                                    "dtype": "object",
                                    "stats": {
                                        "unique_count": 5,
                                        "nan_count": 0,
                                        "categories": [
                                            {
                                                "name": "actor",
                                                "count": 4
                                            },
                                            {
                                                "name": "writer",
                                                "count": 2
                                            },
                                            {
                                                "name": "3 others",
                                                "count": 4
                                            }
                                        ]
                                    }
                                },
                                {
                                    "name": "film_1",
                                    "dtype": "object",
                                    "stats": {
                                        "unique_count": 7,
                                        "nan_count": 0,
                                        "categories": [
                                            {
                                                "name": "tt0006409",
                                                "count": 3
                                            },
                                            {
                                                "name": "tt0000591",
                                                "count": 2
                                            },
                                            {
                                                "name": "5 others",
                                                "count": 5
                                            }
                                        ]
                                    }
                                },
                                {
                                    "name": "film_2",
                                    "dtype": "object",
                                    "stats": {
                                        "unique_count": 8,
                                        "nan_count": 0,
                                        "categories": [
                                            {
                                                "name": "tt0433554",
                                                "count": 2
                                            },
                                            {
                                                "name": "tt0157468",
                                                "count": 2
                                            },
                                            {
                                                "name": "6 others",
                                                "count": 6
                                            }
                                        ]
                                    }
                                },
                                {
                                    "name": "film_3",
                                    "dtype": "object",
                                    "stats": {
                                        "unique_count": 8,
                                        "nan_count": 0,
                                        "categories": [
                                            {
                                                "name": "tt0431913",
                                                "count": 2
                                            },
                                            {
                                                "name": "tt0175920",
                                                "count": 2
                                            },
                                            {
                                                "name": "6 others",
                                                "count": 6
                                            }
                                        ]
                                    }
                                },
                                {
                                    "name": "film_4",
                                    "dtype": "object",
                                    "stats": {
                                        "unique_count": 8,
                                        "nan_count": 0,
                                        "categories": [
                                            {
                                                "name": "tt0433594",
                                                "count": 2
                                            },
                                            {
                                                "name": "tt0006943",
                                                "count": 2
                                            },
                                            {
                                                "name": "6 others",
                                                "count": 6
                                            }
                                        ]
                                    }
                                },
                                {
                                    "name": "titleType",
                                    "dtype": "object",
                                    "stats": {
                                        "unique_count": 1,
                                        "nan_count": 0,
                                        "categories": [
                                            {
                                                "name": "movie",
                                                "count": 10
                                            }
                                        ]
                                    }
                                },
                                {
                                    "name": "primaryTitle",
                                    "dtype": "object",
                                    "stats": {
                                        "unique_count": 5,
                                        "nan_count": 0,
                                        "categories": [
                                            {
                                                "name": "Abraham Lincoln's Clemency",
                                                "count": 3
                                            },
                                            {
                                                "name": "The Red Inn",
                                                "count": 3
                                            },
                                            {
                                                "name": "3 others",
                                                "count": 4
                                            }
                                        ]
                                    }
                                },
                                {
                                    "name": "originalTitle",
                                    "dtype": "object",
                                    "stats": {
                                        "unique_count": 5,
                                        "nan_count": 0,
                                        "categories": [
                                            {
                                                "name": "Abraham Lincoln's Clemency",
                                                "count": 3
                                            },
                                            {
                                                "name": "L'auberge rouge",
                                                "count": 3
                                            },
                                            {
                                                "name": "3 others",
                                                "count": 4
                                            }
                                        ]
                                    }
                                },
                                {
                                    "name": "startYear",
                                    "dtype": "object",
                                    "stats": {
                                        "unique_count": 3,
                                        "nan_count": 0,
                                        "categories": [
                                            {
                                                "name": "1910",
                                                "count": 7
                                            },
                                            {
                                                "name": "1907",
                                                "count": 2
                                            },
                                            {
                                                "name": "1912",
                                                "count": 1
                                            }
                                        ]
                                    }
                                },
                                {
                                    "name": "runtimeMinutes",
                                    "dtype": "object",
                                    "stats": {
                                        "unique_count": 2,
                                        "nan_count": 0,
                                        "categories": [
                                            {
                                                "name": "\\N",
                                                "count": 8
                                            },
                                            {
                                                "name": "90",
                                                "count": 2
                                            }
                                        ]
                                    }
                                },
                                {
                                    "name": "genres",
                                    "dtype": "object",
                                    "stats": {
                                        "unique_count": 3,
                                        "nan_count": 0,
                                        "categories": [
                                            {
                                                "name": "\\N",
                                                "count": 6
                                            },
                                            {
                                                "name": "Drama",
                                                "count": 3
                                            },
                                            {
                                                "name": "Drama,Romance",
                                                "count": 1
                                            }
                                        ]
                                    }
                                },
                                {
                                    "name": "directors",
                                    "dtype": "object",
                                    "stats": {
                                        "unique_count": 5,
                                        "nan_count": 0,
                                        "categories": [
                                            {
                                                "name": "nm0923603",
                                                "count": 3
                                            },
                                            {
                                                "name": "nm0605942",
                                                "count": 3
                                            },
                                            {
                                                "name": "3 others",
                                                "count": 4
                                            }
                                        ]
                                    }
                                },
                                {
                                    "name": "averageRating",
                                    "dtype": "float64",
                                    "stats": {
                                        "unique_count": 5,
                                        "nan_count": 0,
                                        "min": "4.5",
                                        "max": "5.6",
                                        "histogram": [
                                            {
                                                "bin_start": 4.5,
                                                "bin_end": 4.61,
                                                "count": 1
                                            },
                                            {
                                                "bin_start": 4.61,
                                                "bin_end": 4.72,
                                                "count": 0
                                            },
                                            {
                                                "bin_start": 4.72,
                                                "bin_end": 4.83,
                                                "count": 3
                                            },
                                            {
                                                "bin_start": 4.83,
                                                "bin_end": 4.9399999999999995,
                                                "count": 3
                                            },
                                            {
                                                "bin_start": 4.9399999999999995,
                                                "bin_end": 5.05,
                                                "count": 0
                                            },
                                            {
                                                "bin_start": 5.05,
                                                "bin_end": 5.16,
                                                "count": 0
                                            },
                                            {
                                                "bin_start": 5.16,
                                                "bin_end": 5.27,
                                                "count": 0
                                            },
                                            {
                                                "bin_start": 5.27,
                                                "bin_end": 5.38,
                                                "count": 0
                                            },
                                            {
                                                "bin_start": 5.38,
                                                "bin_end": 5.489999999999999,
                                                "count": 1
                                            },
                                            {
                                                "bin_start": 5.489999999999999,
                                                "bin_end": 5.6,
                                                "count": 2
                                            }
                                        ]
                                    }
                                },
                                {
                                    "name": "numVotes",
                                    "dtype": "float64",
                                    "stats": {
                                        "unique_count": 4,
                                        "nan_count": 0,
                                        "min": "21.0",
                                        "max": "46.0",
                                        "histogram": [
                                            {
                                                "bin_start": 21,
                                                "bin_end": 23.5,
                                                "count": 3
                                            },
                                            {
                                                "bin_start": 23.5,
                                                "bin_end": 26,
                                                "count": 0
                                            },
                                            {
                                                "bin_start": 26,
                                                "bin_end": 28.5,
                                                "count": 0
                                            },
                                            {
                                                "bin_start": 28.5,
                                                "bin_end": 31,
                                                "count": 0
                                            },
                                            {
                                                "bin_start": 31,
                                                "bin_end": 33.5,
                                                "count": 2
                                            },
                                            {
                                                "bin_start": 33.5,
                                                "bin_end": 36,
                                                "count": 0
                                            },
                                            {
                                                "bin_start": 36,
                                                "bin_end": 38.5,
                                                "count": 0
                                            },
                                            {
                                                "bin_start": 38.5,
                                                "bin_end": 41,
                                                "count": 0
                                            },
                                            {
                                                "bin_start": 41,
                                                "bin_end": 43.5,
                                                "count": 4
                                            },
                                            {
                                                "bin_start": 43.5,
                                                "bin_end": 46,
                                                "count": 1
                                            }
                                        ]
                                    }
                                },
                                {
                                    "name": "category",
                                    "dtype": "object",
                                    "stats": {
                                        "unique_count": 5,
                                        "nan_count": 0,
                                        "categories": [
                                            {
                                                "name": "writer",
                                                "count": 4
                                            },
                                            {
                                                "name": "director",
                                                "count": 2
                                            },
                                            {
                                                "name": "3 others",
                                                "count": 4
                                            }
                                        ]
                                    }
                                },
                                {
                                    "name": "_deepnote_index_column",
                                    "dtype": "int64"
                                }
                            ],
                            "rows": [
                                {
                                    "tconst": "tt0000591",
                                    "ordering": 2,
                                    "title": "L'enfant prodigue",
                                    "region": "FR",
                                    "language": "\\N",
                                    "types": "imdbDisplay",
                                    "attributes": "\\N",
                                    "isOriginalTitle": 0,
                                    "nconst": "nm0141150",
                                    "primaryName": "Michel Carré",
                                    "job_1": "director",
                                    "job_2": "writer",
                                    "job_3": "actor",
                                    "film_1": "tt0000591",
                                    "film_2": "tt0433554",
                                    "film_3": "tt0431913",
                                    "film_4": "tt0433594",
                                    "titleType": "movie",
                                    "primaryTitle": "The Prodigal Son",
                                    "originalTitle": "L'enfant prodigue",
                                    "startYear": "1907",
                                    "runtimeMinutes": "90",
                                    "genres": "Drama",
                                    "directors": "nm0141150",
                                    "averageRating": 5.6,
                                    "numVotes": 31,
                                    "category": "director",
                                    "_deepnote_index_column": 0
                                },
                                {
                                    "tconst": "tt0000591",
                                    "ordering": 2,
                                    "title": "L'enfant prodigue",
                                    "region": "FR",
                                    "language": "\\N",
                                    "types": "imdbDisplay",
                                    "attributes": "\\N",
                                    "isOriginalTitle": 0,
                                    "nconst": "nm0141150",
                                    "primaryName": "Michel Carré",
                                    "job_1": "director",
                                    "job_2": "writer",
                                    "job_3": "actor",
                                    "film_1": "tt0000591",
                                    "film_2": "tt0433554",
                                    "film_3": "tt0431913",
                                    "film_4": "tt0433594",
                                    "titleType": "movie",
                                    "primaryTitle": "The Prodigal Son",
                                    "originalTitle": "L'enfant prodigue",
                                    "startYear": "1907",
                                    "runtimeMinutes": "90",
                                    "genres": "Drama",
                                    "directors": "nm0141150",
                                    "averageRating": 5.6,
                                    "numVotes": 31,
                                    "category": "writer",
                                    "_deepnote_index_column": 1
                                },
                                {
                                    "tconst": "tt0000886",
                                    "ordering": 2,
                                    "title": "Hamlet",
                                    "region": "FR",
                                    "language": "\\N",
                                    "types": "imdbDisplay",
                                    "attributes": "\\N",
                                    "isOriginalTitle": 0,
                                    "nconst": "nm0000636",
                                    "primaryName": "William Shakespeare",
                                    "job_1": "writer",
                                    "job_2": "miscellaneous",
                                    "job_3": "actor",
                                    "film_1": "tt10095582",
                                    "film_2": "tt20711868",
                                    "film_3": "tt8632012",
                                    "film_4": "tt14297038",
                                    "titleType": "movie",
                                    "primaryTitle": "Hamlet, Prince of Denmark",
                                    "originalTitle": "Hamlet",
                                    "startYear": "1910",
                                    "runtimeMinutes": "\\N",
                                    "genres": "Drama",
                                    "directors": "nm0099901",
                                    "averageRating": 4.5,
                                    "numVotes": 41,
                                    "category": "writer",
                                    "_deepnote_index_column": 2
                                },
                                {
                                    "tconst": "tt0001101",
                                    "ordering": 4,
                                    "title": "La Clémence d'Abraham Lincoln",
                                    "region": "FR",
                                    "language": "\\N",
                                    "types": "imdbDisplay",
                                    "attributes": "\\N",
                                    "isOriginalTitle": 0,
                                    "nconst": "nm0923594",
                                    "primaryName": "Leopold Wharton",
                                    "job_1": "director",
                                    "job_2": "producer",
                                    "job_3": "actor",
                                    "film_1": "tt0006409",
                                    "film_2": "tt0174714",
                                    "film_3": "tt0008411",
                                    "film_4": "tt0003897",
                                    "titleType": "movie",
                                    "primaryTitle": "Abraham Lincoln's Clemency",
                                    "originalTitle": "Abraham Lincoln's Clemency",
                                    "startYear": "1910",
                                    "runtimeMinutes": "\\N",
                                    "genres": "\\N",
                                    "directors": "nm0923603",
                                    "averageRating": 4.8,
                                    "numVotes": 41,
                                    "category": "actor",
                                    "_deepnote_index_column": 3
                                },
                                {
                                    "tconst": "tt0001101",
                                    "ordering": 4,
                                    "title": "La Clémence d'Abraham Lincoln",
                                    "region": "FR",
                                    "language": "\\N",
                                    "types": "imdbDisplay",
                                    "attributes": "\\N",
                                    "isOriginalTitle": 0,
                                    "nconst": "nm0923603",
                                    "primaryName": "Theodore Wharton",
                                    "job_1": "director",
                                    "job_2": "producer",
                                    "job_3": "writer",
                                    "film_1": "tt0006409",
                                    "film_2": "tt0157468",
                                    "film_3": "tt0175920",
                                    "film_4": "tt0006943",
                                    "titleType": "movie",
                                    "primaryTitle": "Abraham Lincoln's Clemency",
                                    "originalTitle": "Abraham Lincoln's Clemency",
                                    "startYear": "1910",
                                    "runtimeMinutes": "\\N",
                                    "genres": "\\N",
                                    "directors": "nm0923603",
                                    "averageRating": 4.8,
                                    "numVotes": 41,
                                    "category": "director",
                                    "_deepnote_index_column": 4
                                },
                                {
                                    "tconst": "tt0001101",
                                    "ordering": 4,
                                    "title": "La Clémence d'Abraham Lincoln",
                                    "region": "FR",
                                    "language": "\\N",
                                    "types": "imdbDisplay",
                                    "attributes": "\\N",
                                    "isOriginalTitle": 0,
                                    "nconst": "nm0923603",
                                    "primaryName": "Theodore Wharton",
                                    "job_1": "director",
                                    "job_2": "producer",
                                    "job_3": "writer",
                                    "film_1": "tt0006409",
                                    "film_2": "tt0157468",
                                    "film_3": "tt0175920",
                                    "film_4": "tt0006943",
                                    "titleType": "movie",
                                    "primaryTitle": "Abraham Lincoln's Clemency",
                                    "originalTitle": "Abraham Lincoln's Clemency",
                                    "startYear": "1910",
                                    "runtimeMinutes": "\\N",
                                    "genres": "\\N",
                                    "directors": "nm0923603",
                                    "averageRating": 4.8,
                                    "numVotes": 41,
                                    "category": "producer",
                                    "_deepnote_index_column": 5
                                },
                                {
                                    "tconst": "tt0001122",
                                    "ordering": 2,
                                    "title": "L'auberge rouge",
                                    "region": "FR",
                                    "language": "\\N",
                                    "types": "imdbDisplay",
                                    "attributes": "\\N",
                                    "isOriginalTitle": 0,
                                    "nconst": "nm0051304",
                                    "primaryName": "Honoré de Balzac",
                                    "job_1": "writer",
                                    "job_2": "music_department",
                                    "job_3": "archive_footage",
                                    "film_1": "tt0012068",
                                    "film_2": "tt0123913",
                                    "film_3": "tt0434182",
                                    "film_4": "tt22470322",
                                    "titleType": "movie",
                                    "primaryTitle": "The Red Inn",
                                    "originalTitle": "L'auberge rouge",
                                    "startYear": "1910",
                                    "runtimeMinutes": "\\N",
                                    "genres": "\\N",
                                    "directors": "nm0605942",
                                    "averageRating": 4.9,
                                    "numVotes": 21,
                                    "category": "writer",
                                    "_deepnote_index_column": 6
                                },
                                {
                                    "tconst": "tt0001122",
                                    "ordering": 2,
                                    "title": "L'auberge rouge",
                                    "region": "FR",
                                    "language": "\\N",
                                    "types": "imdbDisplay",
                                    "attributes": "\\N",
                                    "isOriginalTitle": 0,
                                    "nconst": "nm0154988",
                                    "primaryName": "Jeanne Cheirel",
                                    "job_1": "actress",
                                    "job_2": "soundtrack",
                                    "job_3": "archive_footage",
                                    "film_1": "tt0200268",
                                    "film_2": "tt0195200",
                                    "film_3": "tt0198762",
                                    "film_4": "tt0195355",
                                    "titleType": "movie",
                                    "primaryTitle": "The Red Inn",
                                    "originalTitle": "L'auberge rouge",
                                    "startYear": "1910",
                                    "runtimeMinutes": "\\N",
                                    "genres": "\\N",
                                    "directors": "nm0605942",
                                    "averageRating": 4.9,
                                    "numVotes": 21,
                                    "category": "actress",
                                    "_deepnote_index_column": 7
                                },
                                {
                                    "tconst": "tt0001122",
                                    "ordering": 2,
                                    "title": "L'auberge rouge",
                                    "region": "FR",
                                    "language": "\\N",
                                    "types": "imdbDisplay",
                                    "attributes": "\\N",
                                    "isOriginalTitle": 0,
                                    "nconst": "nm0304098",
                                    "primaryName": "Abel Gance",
                                    "job_1": "writer",
                                    "job_2": "director",
                                    "job_3": "editor",
                                    "film_1": "tt0014417",
                                    "film_2": "tt0025027",
                                    "film_3": "tt0018192",
                                    "film_4": "tt0066855",
                                    "titleType": "movie",
                                    "primaryTitle": "The Red Inn",
                                    "originalTitle": "L'auberge rouge",
                                    "startYear": "1910",
                                    "runtimeMinutes": "\\N",
                                    "genres": "\\N",
                                    "directors": "nm0605942",
                                    "averageRating": 4.9,
                                    "numVotes": 21,
                                    "category": "writer",
                                    "_deepnote_index_column": 8
                                },
                                {
                                    "tconst": "tt0001175",
                                    "ordering": 7,
                                    "title": "La dame aux camélias",
                                    "region": "FR",
                                    "language": "\\N",
                                    "types": "imdbDisplay",
                                    "attributes": "\\N",
                                    "isOriginalTitle": 0,
                                    "nconst": "nm0076800",
                                    "primaryName": "Sarah Bernhardt",
                                    "job_1": "actress",
                                    "job_2": "writer",
                                    "job_3": "miscellaneous",
                                    "film_1": "tt0001175",
                                    "film_2": "tt0200269",
                                    "film_3": "tt0008359",
                                    "film_4": "tt0202209",
                                    "titleType": "movie",
                                    "primaryTitle": "Camille",
                                    "originalTitle": "La dame aux camélias",
                                    "startYear": "1912",
                                    "runtimeMinutes": "\\N",
                                    "genres": "Drama,Romance",
                                    "directors": "nm0130633,nm0580197,nm0693516",
                                    "averageRating": 5.4,
                                    "numVotes": 46,
                                    "category": "actress",
                                    "_deepnote_index_column": 9
                                }
                            ],
                            "type": "dataframe"
                        },
                        "text/plain": "      tconst  ordering                          title region language  \\\n0  tt0000591         2              L'enfant prodigue     FR       \\N   \n1  tt0000591         2              L'enfant prodigue     FR       \\N   \n2  tt0000886         2                         Hamlet     FR       \\N   \n3  tt0001101         4  La Clémence d'Abraham Lincoln     FR       \\N   \n4  tt0001101         4  La Clémence d'Abraham Lincoln     FR       \\N   \n5  tt0001101         4  La Clémence d'Abraham Lincoln     FR       \\N   \n6  tt0001122         2                L'auberge rouge     FR       \\N   \n7  tt0001122         2                L'auberge rouge     FR       \\N   \n8  tt0001122         2                L'auberge rouge     FR       \\N   \n9  tt0001175         7           La dame aux camélias     FR       \\N   \n\n         types attributes  isOriginalTitle     nconst          primaryName  \\\n0  imdbDisplay         \\N                0  nm0141150         Michel Carré   \n1  imdbDisplay         \\N                0  nm0141150         Michel Carré   \n2  imdbDisplay         \\N                0  nm0000636  William Shakespeare   \n3  imdbDisplay         \\N                0  nm0923594      Leopold Wharton   \n4  imdbDisplay         \\N                0  nm0923603     Theodore Wharton   \n5  imdbDisplay         \\N                0  nm0923603     Theodore Wharton   \n6  imdbDisplay         \\N                0  nm0051304     Honoré de Balzac   \n7  imdbDisplay         \\N                0  nm0154988       Jeanne Cheirel   \n8  imdbDisplay         \\N                0  nm0304098           Abel Gance   \n9  imdbDisplay         \\N                0  nm0076800      Sarah Bernhardt   \n\n   ... titleType                primaryTitle               originalTitle  \\\n0  ...     movie            The Prodigal Son           L'enfant prodigue   \n1  ...     movie            The Prodigal Son           L'enfant prodigue   \n2  ...     movie   Hamlet, Prince of Denmark                      Hamlet   \n3  ...     movie  Abraham Lincoln's Clemency  Abraham Lincoln's Clemency   \n4  ...     movie  Abraham Lincoln's Clemency  Abraham Lincoln's Clemency   \n5  ...     movie  Abraham Lincoln's Clemency  Abraham Lincoln's Clemency   \n6  ...     movie                 The Red Inn             L'auberge rouge   \n7  ...     movie                 The Red Inn             L'auberge rouge   \n8  ...     movie                 The Red Inn             L'auberge rouge   \n9  ...     movie                     Camille        La dame aux camélias   \n\n  startYear runtimeMinutes         genres                      directors  \\\n0      1907             90          Drama                      nm0141150   \n1      1907             90          Drama                      nm0141150   \n2      1910             \\N          Drama                      nm0099901   \n3      1910             \\N             \\N                      nm0923603   \n4      1910             \\N             \\N                      nm0923603   \n5      1910             \\N             \\N                      nm0923603   \n6      1910             \\N             \\N                      nm0605942   \n7      1910             \\N             \\N                      nm0605942   \n8      1910             \\N             \\N                      nm0605942   \n9      1912             \\N  Drama,Romance  nm0130633,nm0580197,nm0693516   \n\n  averageRating numVotes  category  \n0           5.6     31.0  director  \n1           5.6     31.0    writer  \n2           4.5     41.0    writer  \n3           4.8     41.0     actor  \n4           4.8     41.0  director  \n5           4.8     41.0  producer  \n6           4.9     21.0    writer  \n7           4.9     21.0   actress  \n8           4.9     21.0    writer  \n9           5.4     46.0   actress  \n\n[10 rows x 27 columns]",
                        "text/html": "<div>\n<style scoped>\n    .dataframe tbody tr th:only-of-type {\n        vertical-align: middle;\n    }\n\n    .dataframe tbody tr th {\n        vertical-align: top;\n    }\n\n    .dataframe thead th {\n        text-align: right;\n    }\n</style>\n<table border=\"1\" class=\"dataframe\">\n  <thead>\n    <tr style=\"text-align: right;\">\n      <th></th>\n      <th>tconst</th>\n      <th>ordering</th>\n      <th>title</th>\n      <th>region</th>\n      <th>language</th>\n      <th>types</th>\n      <th>attributes</th>\n      <th>isOriginalTitle</th>\n      <th>nconst</th>\n      <th>primaryName</th>\n      <th>...</th>\n      <th>titleType</th>\n      <th>primaryTitle</th>\n      <th>originalTitle</th>\n      <th>startYear</th>\n      <th>runtimeMinutes</th>\n      <th>genres</th>\n      <th>directors</th>\n      <th>averageRating</th>\n      <th>numVotes</th>\n      <th>category</th>\n    </tr>\n  </thead>\n  <tbody>\n    <tr>\n      <th>0</th>\n      <td>tt0000591</td>\n      <td>2</td>\n      <td>L'enfant prodigue</td>\n      <td>FR</td>\n      <td>\\N</td>\n      <td>imdbDisplay</td>\n      <td>\\N</td>\n      <td>0</td>\n      <td>nm0141150</td>\n      <td>Michel Carré</td>\n      <td>...</td>\n      <td>movie</td>\n      <td>The Prodigal Son</td>\n      <td>L'enfant prodigue</td>\n      <td>1907</td>\n      <td>90</td>\n      <td>Drama</td>\n      <td>nm0141150</td>\n      <td>5.6</td>\n      <td>31.0</td>\n      <td>director</td>\n    </tr>\n    <tr>\n      <th>1</th>\n      <td>tt0000591</td>\n      <td>2</td>\n      <td>L'enfant prodigue</td>\n      <td>FR</td>\n      <td>\\N</td>\n      <td>imdbDisplay</td>\n      <td>\\N</td>\n      <td>0</td>\n      <td>nm0141150</td>\n      <td>Michel Carré</td>\n      <td>...</td>\n      <td>movie</td>\n      <td>The Prodigal Son</td>\n      <td>L'enfant prodigue</td>\n      <td>1907</td>\n      <td>90</td>\n      <td>Drama</td>\n      <td>nm0141150</td>\n      <td>5.6</td>\n      <td>31.0</td>\n      <td>writer</td>\n    </tr>\n    <tr>\n      <th>2</th>\n      <td>tt0000886</td>\n      <td>2</td>\n      <td>Hamlet</td>\n      <td>FR</td>\n      <td>\\N</td>\n      <td>imdbDisplay</td>\n      <td>\\N</td>\n      <td>0</td>\n      <td>nm0000636</td>\n      <td>William Shakespeare</td>\n      <td>...</td>\n      <td>movie</td>\n      <td>Hamlet, Prince of Denmark</td>\n      <td>Hamlet</td>\n      <td>1910</td>\n      <td>\\N</td>\n      <td>Drama</td>\n      <td>nm0099901</td>\n      <td>4.5</td>\n      <td>41.0</td>\n      <td>writer</td>\n    </tr>\n    <tr>\n      <th>3</th>\n      <td>tt0001101</td>\n      <td>4</td>\n      <td>La Clémence d'Abraham Lincoln</td>\n      <td>FR</td>\n      <td>\\N</td>\n      <td>imdbDisplay</td>\n      <td>\\N</td>\n      <td>0</td>\n      <td>nm0923594</td>\n      <td>Leopold Wharton</td>\n      <td>...</td>\n      <td>movie</td>\n      <td>Abraham Lincoln's Clemency</td>\n      <td>Abraham Lincoln's Clemency</td>\n      <td>1910</td>\n      <td>\\N</td>\n      <td>\\N</td>\n      <td>nm0923603</td>\n      <td>4.8</td>\n      <td>41.0</td>\n      <td>actor</td>\n    </tr>\n    <tr>\n      <th>4</th>\n      <td>tt0001101</td>\n      <td>4</td>\n      <td>La Clémence d'Abraham Lincoln</td>\n      <td>FR</td>\n      <td>\\N</td>\n      <td>imdbDisplay</td>\n      <td>\\N</td>\n      <td>0</td>\n      <td>nm0923603</td>\n      <td>Theodore Wharton</td>\n      <td>...</td>\n      <td>movie</td>\n      <td>Abraham Lincoln's Clemency</td>\n      <td>Abraham Lincoln's Clemency</td>\n      <td>1910</td>\n      <td>\\N</td>\n      <td>\\N</td>\n      <td>nm0923603</td>\n      <td>4.8</td>\n      <td>41.0</td>\n      <td>director</td>\n    </tr>\n    <tr>\n      <th>5</th>\n      <td>tt0001101</td>\n      <td>4</td>\n      <td>La Clémence d'Abraham Lincoln</td>\n      <td>FR</td>\n      <td>\\N</td>\n      <td>imdbDisplay</td>\n      <td>\\N</td>\n      <td>0</td>\n      <td>nm0923603</td>\n      <td>Theodore Wharton</td>\n      <td>...</td>\n      <td>movie</td>\n      <td>Abraham Lincoln's Clemency</td>\n      <td>Abraham Lincoln's Clemency</td>\n      <td>1910</td>\n      <td>\\N</td>\n      <td>\\N</td>\n      <td>nm0923603</td>\n      <td>4.8</td>\n      <td>41.0</td>\n      <td>producer</td>\n    </tr>\n    <tr>\n      <th>6</th>\n      <td>tt0001122</td>\n      <td>2</td>\n      <td>L'auberge rouge</td>\n      <td>FR</td>\n      <td>\\N</td>\n      <td>imdbDisplay</td>\n      <td>\\N</td>\n      <td>0</td>\n      <td>nm0051304</td>\n      <td>Honoré de Balzac</td>\n      <td>...</td>\n      <td>movie</td>\n      <td>The Red Inn</td>\n      <td>L'auberge rouge</td>\n      <td>1910</td>\n      <td>\\N</td>\n      <td>\\N</td>\n      <td>nm0605942</td>\n      <td>4.9</td>\n      <td>21.0</td>\n      <td>writer</td>\n    </tr>\n    <tr>\n      <th>7</th>\n      <td>tt0001122</td>\n      <td>2</td>\n      <td>L'auberge rouge</td>\n      <td>FR</td>\n      <td>\\N</td>\n      <td>imdbDisplay</td>\n      <td>\\N</td>\n      <td>0</td>\n      <td>nm0154988</td>\n      <td>Jeanne Cheirel</td>\n      <td>...</td>\n      <td>movie</td>\n      <td>The Red Inn</td>\n      <td>L'auberge rouge</td>\n      <td>1910</td>\n      <td>\\N</td>\n      <td>\\N</td>\n      <td>nm0605942</td>\n      <td>4.9</td>\n      <td>21.0</td>\n      <td>actress</td>\n    </tr>\n    <tr>\n      <th>8</th>\n      <td>tt0001122</td>\n      <td>2</td>\n      <td>L'auberge rouge</td>\n      <td>FR</td>\n      <td>\\N</td>\n      <td>imdbDisplay</td>\n      <td>\\N</td>\n      <td>0</td>\n      <td>nm0304098</td>\n      <td>Abel Gance</td>\n      <td>...</td>\n      <td>movie</td>\n      <td>The Red Inn</td>\n      <td>L'auberge rouge</td>\n      <td>1910</td>\n      <td>\\N</td>\n      <td>\\N</td>\n      <td>nm0605942</td>\n      <td>4.9</td>\n      <td>21.0</td>\n      <td>writer</td>\n    </tr>\n    <tr>\n      <th>9</th>\n      <td>tt0001175</td>\n      <td>7</td>\n      <td>La dame aux camélias</td>\n      <td>FR</td>\n      <td>\\N</td>\n      <td>imdbDisplay</td>\n      <td>\\N</td>\n      <td>0</td>\n      <td>nm0076800</td>\n      <td>Sarah Bernhardt</td>\n      <td>...</td>\n      <td>movie</td>\n      <td>Camille</td>\n      <td>La dame aux camélias</td>\n      <td>1912</td>\n      <td>\\N</td>\n      <td>Drama,Romance</td>\n      <td>nm0130633,nm0580197,nm0693516</td>\n      <td>5.4</td>\n      <td>46.0</td>\n      <td>actress</td>\n    </tr>\n  </tbody>\n</table>\n<p>10 rows × 27 columns</p>\n</div>"
                    },
                    "metadata": {}
                }
            ],
            "outputs_reference": "s3:deepnote-cell-outputs-production/f2f73922-9819-4bca-a4e4-9ee2b744fd60",
            "content_dependencies": null
        },
        {
            "cell_type": "markdown",
            "metadata": {
                "cell_id": "e48ea639cc4b48a0bfd0bbfb97cacf2f",
                "deepnote_cell_type": "separator"
            },
            "source": "<hr>",
            "block_group": "f7a7a0617356400285bee8a850193497"
        },
        {
            "cell_type": "code",
            "metadata": {
                "source_hash": "10f43bc0",
                "execution_start": 1748612842210,
                "execution_millis": 63,
                "execution_context_id": "4e5321f0-ec9f-41a2-9781-65b6aeff5125",
                "cell_id": "c2180f046cf145a8ad8ec4069f2a5eac",
                "deepnote_cell_type": "code"
            },
            "source": "df.value_counts(['category'])",
            "block_group": "048cda205dfb4bc9aecb300151ba8d32",
            "execution_count": 34,
            "outputs": [
                {
                    "output_type": "execute_result",
                    "execution_count": 34,
                    "data": {
                        "text/plain": "category           \nactor                  213746\nwriter                  95115\nactress                 87714\ndirector                67116\nproducer                54550\ncinematographer         30512\ncomposer                27556\neditor                  24747\ncasting_director        10044\nproduction_designer      5533\nself                     5472\narchive_footage          1922\narchive_sound              19\nName: count, dtype: int64"
                    },
                    "metadata": {}
                }
            ],
            "outputs_reference": "dbtable:cell_outputs/eda93c0e-8b84-4600-855e-1c16ccef46a6",
            "content_dependencies": null
        },
        {
            "cell_type": "code",
            "metadata": {
                "source_hash": "d0e6d9a3",
                "execution_start": 1748612845837,
                "execution_millis": 153,
                "execution_context_id": "4e5321f0-ec9f-41a2-9781-65b6aeff5125",
                "cell_id": "ab13d3bc10e644fa9e2f46b337d5971b",
                "deepnote_cell_type": "code"
            },
            "source": "#garder uniquement actor,actress,producer,director,writer\ndf_short = df[df['category'].isin(['actor','actress','producer','director','writer'])]\ndf_short.shape",
            "block_group": "adfbd937de354a228e3be7263cf82171",
            "execution_count": 37,
            "outputs": [
                {
                    "output_type": "execute_result",
                    "execution_count": 37,
                    "data": {
                        "text/plain": "(518241, 27)"
                    },
                    "metadata": {}
                }
            ],
            "outputs_reference": "dbtable:cell_outputs/4a88e63a-4e69-4c48-a8ea-60acbde56550",
            "content_dependencies": null
        },
        {
            "cell_type": "code",
            "metadata": {
                "source_hash": "b968e7b9",
                "execution_start": 1748612849196,
                "execution_millis": 36,
                "execution_context_id": "4e5321f0-ec9f-41a2-9781-65b6aeff5125",
                "cell_id": "824967d625884e63aa4407e8203f6869",
                "deepnote_cell_type": "code"
            },
            "source": "#fichier films\ndf_movies = df_short[['tconst','title','primaryTitle','genres','runtimeMinutes','startYear','averageRating','numVotes']]\ndf_movies.shape",
            "block_group": "eed2a00978524ddca4f2e0c9f793135e",
            "execution_count": 40,
            "outputs": [
                {
                    "output_type": "execute_result",
                    "execution_count": 40,
                    "data": {
                        "text/plain": "(518241, 8)"
                    },
                    "metadata": {}
                }
            ],
            "outputs_reference": "dbtable:cell_outputs/ef162e15-9f6c-4b8a-94a9-634459992762",
            "content_dependencies": null
        },
        {
            "cell_type": "code",
            "metadata": {
                "source_hash": "ec029c4a",
                "execution_start": 1748612852254,
                "execution_millis": 384,
                "execution_context_id": "4e5321f0-ec9f-41a2-9781-65b6aeff5125",
                "cell_id": "d722a12ecd144f7fa00b4c6453c602ba",
                "deepnote_cell_type": "code"
            },
            "source": "nb_doublons = df_movies.duplicated(keep=False).sum()\nprint(f\"Nombre de lignes en doublon : {nb_doublons}\")",
            "block_group": "a443b8fa28aa4897a0697a8e3ef00eca",
            "execution_count": 43,
            "outputs": [
                {
                    "name": "stdout",
                    "text": "Nombre de lignes en doublon : 516970\n",
                    "output_type": "stream"
                }
            ],
            "outputs_reference": "dbtable:cell_outputs/1eaabe1c-c1bc-4998-9c74-97f87c72d448",
            "content_dependencies": null
        },
        {
            "cell_type": "code",
            "metadata": {
                "source_hash": "8befa31f",
                "execution_start": 1748612855482,
                "execution_millis": 415,
                "execution_context_id": "4e5321f0-ec9f-41a2-9781-65b6aeff5125",
                "cell_id": "2fd390496d584113a2ba5da4e4bea10a",
                "deepnote_cell_type": "code"
            },
            "source": "#supprimer les doublons\ndf_movies_cleaned= df_movies.drop_duplicates().reset_index(drop=True)\ndf_movies_cleaned",
            "block_group": "cdfc28b2c4b54624adeb83addc3f9e08",
            "execution_count": 46,
            "outputs": [
                {
                    "output_type": "execute_result",
                    "execution_count": 46,
                    "data": {
                        "application/vnd.deepnote.dataframe.v3+json": {
                            "column_count": 8,
                            "row_count": 66434,
                            "columns": [
                                {
                                    "name": "tconst",
                                    "dtype": "object",
                                    "stats": {
                                        "unique_count": 59134,
                                        "nan_count": 0,
                                        "categories": [
                                            {
                                                "name": "tt18260116",
                                                "count": 10
                                            },
                                            {
                                                "name": "tt0056467",
                                                "count": 8
                                            },
                                            {
                                                "name": "59132 others",
                                                "count": 66416
                                            }
                                        ]
                                    }
                                },
                                {
                                    "name": "title",
                                    "dtype": "object"
                                },
                                {
                                    "name": "primaryTitle",
                                    "dtype": "object"
                                },
                                {
                                    "name": "genres",
                                    "dtype": "object"
                                },
                                {
                                    "name": "runtimeMinutes",
                                    "dtype": "object"
                                },
                                {
                                    "name": "startYear",
                                    "dtype": "object"
                                },
                                {
                                    "name": "averageRating",
                                    "dtype": "float64"
                                },
                                {
                                    "name": "numVotes",
                                    "dtype": "float64"
                                },
                                {
                                    "name": "_deepnote_index_column",
                                    "dtype": "int64"
                                }
                            ],
                            "rows": [
                                {
                                    "tconst": "tt0000591",
                                    "title": "L'enfant prodigue",
                                    "primaryTitle": "The Prodigal Son",
                                    "genres": "Drama",
                                    "runtimeMinutes": "90",
                                    "startYear": "1907",
                                    "averageRating": 5.6,
                                    "numVotes": 31,
                                    "_deepnote_index_column": 0
                                },
                                {
                                    "tconst": "tt0000886",
                                    "title": "Hamlet",
                                    "primaryTitle": "Hamlet, Prince of Denmark",
                                    "genres": "Drama",
                                    "runtimeMinutes": "\\N",
                                    "startYear": "1910",
                                    "averageRating": 4.5,
                                    "numVotes": 41,
                                    "_deepnote_index_column": 1
                                },
                                {
                                    "tconst": "tt0001101",
                                    "title": "La Clémence d'Abraham Lincoln",
                                    "primaryTitle": "Abraham Lincoln's Clemency",
                                    "genres": "\\N",
                                    "runtimeMinutes": "\\N",
                                    "startYear": "1910",
                                    "averageRating": 4.8,
                                    "numVotes": 41,
                                    "_deepnote_index_column": 2
                                },
                                {
                                    "tconst": "tt0001122",
                                    "title": "L'auberge rouge",
                                    "primaryTitle": "The Red Inn",
                                    "genres": "\\N",
                                    "runtimeMinutes": "\\N",
                                    "startYear": "1910",
                                    "averageRating": 4.9,
                                    "numVotes": 21,
                                    "_deepnote_index_column": 3
                                },
                                {
                                    "tconst": "tt0001175",
                                    "title": "La dame aux camélias",
                                    "primaryTitle": "Camille",
                                    "genres": "Drama,Romance",
                                    "runtimeMinutes": "\\N",
                                    "startYear": "1912",
                                    "averageRating": 5.4,
                                    "numVotes": 46,
                                    "_deepnote_index_column": 4
                                },
                                {
                                    "tconst": "tt0001285",
                                    "title": "La Vie de Moïse",
                                    "primaryTitle": "The Life of Moses",
                                    "genres": "Biography,Drama,Family",
                                    "runtimeMinutes": "50",
                                    "startYear": "1909",
                                    "averageRating": 5.5,
                                    "numVotes": 65,
                                    "_deepnote_index_column": 5
                                },
                                {
                                    "tconst": "tt0001386",
                                    "title": "Le roi des parfums",
                                    "primaryTitle": "Le roi des parfums",
                                    "genres": "\\N",
                                    "runtimeMinutes": "\\N",
                                    "startYear": "1910",
                                    "averageRating": 4.3,
                                    "numVotes": 21,
                                    "_deepnote_index_column": 6
                                },
                                {
                                    "tconst": "tt0001614",
                                    "title": "Les Quatre Diables",
                                    "primaryTitle": "The Four Devils",
                                    "genres": "Drama",
                                    "runtimeMinutes": "60",
                                    "startYear": "1911",
                                    "averageRating": 6.5,
                                    "numVotes": 44,
                                    "_deepnote_index_column": 7
                                },
                                {
                                    "tconst": "tt0001790",
                                    "title": "Les misérables - Époque 1: Jean Valjean",
                                    "primaryTitle": "Les Misérables, Part 1: Jean Valjean",
                                    "genres": "Drama",
                                    "runtimeMinutes": "60",
                                    "startYear": "1913",
                                    "averageRating": 5.9,
                                    "numVotes": 60,
                                    "_deepnote_index_column": 8
                                },
                                {
                                    "tconst": "tt0001993",
                                    "title": "L'électrocuté",
                                    "primaryTitle": "L'électrocuté",
                                    "genres": "Sci-Fi",
                                    "runtimeMinutes": "\\N",
                                    "startYear": "1911",
                                    "averageRating": 4.1,
                                    "numVotes": 22,
                                    "_deepnote_index_column": 9
                                },
                                {
                                    "tconst": "tt0002130",
                                    "title": "L'Enfer",
                                    "primaryTitle": "Dante's Inferno",
                                    "genres": "Adventure,Drama,Fantasy",
                                    "runtimeMinutes": "71",
                                    "startYear": "1911",
                                    "averageRating": 7,
                                    "numVotes": 3810,
                                    "_deepnote_index_column": 10
                                },
                                {
                                    "tconst": "tt0002199",
                                    "title": "De la crèche à la croix",
                                    "primaryTitle": "From the Manger to the Cross",
                                    "genres": "Biography,Drama",
                                    "runtimeMinutes": "71",
                                    "startYear": "1912",
                                    "averageRating": 5.8,
                                    "numVotes": 677,
                                    "_deepnote_index_column": 11
                                },
                                {
                                    "tconst": "tt0002262",
                                    "title": "Il y a des pieds au plafond",
                                    "primaryTitle": "Il y a des pieds au plafond",
                                    "genres": "\\N",
                                    "runtimeMinutes": "\\N",
                                    "startYear": "1912",
                                    "averageRating": 5.4,
                                    "numVotes": 14,
                                    "_deepnote_index_column": 12
                                },
                                {
                                    "tconst": "tt0002375",
                                    "title": "La mort du duc d'Enghien",
                                    "primaryTitle": "La mort du duc d'Enghien",
                                    "genres": "\\N",
                                    "runtimeMinutes": "\\N",
                                    "startYear": "1912",
                                    "averageRating": 5.2,
                                    "numVotes": 15,
                                    "_deepnote_index_column": 13
                                },
                                {
                                    "tconst": "tt0002395",
                                    "title": "Le nègre blanc",
                                    "primaryTitle": "Le nègre blanc",
                                    "genres": "\\N",
                                    "runtimeMinutes": "\\N",
                                    "startYear": "1912",
                                    "averageRating": 4.8,
                                    "numVotes": 15,
                                    "_deepnote_index_column": 14
                                },
                                {
                                    "tconst": "tt0002423",
                                    "title": "Passion",
                                    "primaryTitle": "Passion",
                                    "genres": "Biography,Drama,Romance",
                                    "runtimeMinutes": "113",
                                    "startYear": "1919",
                                    "averageRating": 6.6,
                                    "numVotes": 1077,
                                    "_deepnote_index_column": 15
                                },
                                {
                                    "tconst": "tt0002423",
                                    "title": "La Du Barry",
                                    "primaryTitle": "Passion",
                                    "genres": "Biography,Drama,Romance",
                                    "runtimeMinutes": "113",
                                    "startYear": "1919",
                                    "averageRating": 6.6,
                                    "numVotes": 1077,
                                    "_deepnote_index_column": 16
                                },
                                {
                                    "tconst": "tt0002423",
                                    "title": "Madame du Barry",
                                    "primaryTitle": "Passion",
                                    "genres": "Biography,Drama,Romance",
                                    "runtimeMinutes": "113",
                                    "startYear": "1919",
                                    "averageRating": 6.6,
                                    "numVotes": 1077,
                                    "_deepnote_index_column": 17
                                },
                                {
                                    "tconst": "tt0002431",
                                    "title": "La pierre philosophe",
                                    "primaryTitle": "La pierre philosophe",
                                    "genres": "\\N",
                                    "runtimeMinutes": "\\N",
                                    "startYear": "1912",
                                    "averageRating": 5,
                                    "numVotes": 15,
                                    "_deepnote_index_column": 18
                                },
                                {
                                    "tconst": "tt0002445",
                                    "title": "Quo Vadis?",
                                    "primaryTitle": "Quo Vadis?",
                                    "genres": "Drama,History",
                                    "runtimeMinutes": "120",
                                    "startYear": "1913",
                                    "averageRating": 6.1,
                                    "numVotes": 495,
                                    "_deepnote_index_column": 19
                                },
                                {
                                    "tconst": "tt0002461",
                                    "title": "Richard III",
                                    "primaryTitle": "The Life and Death of King Richard III",
                                    "genres": "Drama",
                                    "runtimeMinutes": "55",
                                    "startYear": "1912",
                                    "averageRating": 5.7,
                                    "numVotes": 340,
                                    "_deepnote_index_column": 20
                                },
                                {
                                    "tconst": "tt0002514",
                                    "title": "Le masque noir",
                                    "primaryTitle": "Saved in Mid-Air",
                                    "genres": "Drama",
                                    "runtimeMinutes": "60",
                                    "startYear": "1912",
                                    "averageRating": 4.9,
                                    "numVotes": 19,
                                    "_deepnote_index_column": 21
                                },
                                {
                                    "tconst": "tt0002555",
                                    "title": "Le Dernier Bohême",
                                    "primaryTitle": "The Last Bohemian",
                                    "genres": "Drama,Romance",
                                    "runtimeMinutes": "\\N",
                                    "startYear": "1913",
                                    "averageRating": 4.4,
                                    "numVotes": 52,
                                    "_deepnote_index_column": 22
                                },
                                {
                                    "tconst": "tt0002588",
                                    "title": "Zigomar contre Nick Carter",
                                    "primaryTitle": "Zigomar contre Nick Carter",
                                    "genres": "Crime,Thriller",
                                    "runtimeMinutes": "48",
                                    "startYear": "1912",
                                    "averageRating": 6,
                                    "numVotes": 55,
                                    "_deepnote_index_column": 23
                                },
                                {
                                    "tconst": "tt0002605",
                                    "title": "Les aventures de Kathlyn",
                                    "primaryTitle": "The Adventures of Kathlyn",
                                    "genres": "Adventure",
                                    "runtimeMinutes": "300",
                                    "startYear": "1913",
                                    "averageRating": 5.5,
                                    "numVotes": 49,
                                    "_deepnote_index_column": 24
                                }
                            ],
                            "type": "dataframe"
                        },
                        "text/plain": "           tconst                                    title  \\\n0       tt0000591                        L'enfant prodigue   \n1       tt0000886                                   Hamlet   \n2       tt0001101            La Clémence d'Abraham Lincoln   \n3       tt0001122                          L'auberge rouge   \n4       tt0001175                     La dame aux camélias   \n...           ...                                      ...   \n66429  tt30004022                     Moroccan Badass Girl   \n66430   tt3000430                           Little Gay Boy   \n66431  tt30005746                        Le Nouveau Berlin   \n66432  tt30006495                        Callas Paris 1958   \n66433  tt30007864  The American Society of Magical Negroes   \n\n                                  primaryTitle                   genres  \\\n0                             The Prodigal Son                    Drama   \n1                    Hamlet, Prince of Denmark                    Drama   \n2                   Abraham Lincoln's Clemency                       \\N   \n3                                  The Red Inn                       \\N   \n4                                      Camille            Drama,Romance   \n...                                        ...                      ...   \n66429                     Moroccan Badass Girl                   Comedy   \n66430                           Little Gay Boy                    Drama   \n66431                               New Berlin  Adventure,Drama,History   \n66432                     Callas - Paris, 1958                       \\N   \n66433  The American Society of Magical Negroes           Comedy,Fantasy   \n\n      runtimeMinutes startYear  averageRating  numVotes  \n0                 90      1907            5.6      31.0  \n1                 \\N      1910            4.5      41.0  \n2                 \\N      1910            4.8      41.0  \n3                 \\N      1910            4.9      21.0  \n4                 \\N      1912            5.4      46.0  \n...              ...       ...            ...       ...  \n66429             83      2023            5.8     124.0  \n66430             72      2013            4.4     187.0  \n66431            126      2023            7.3       8.0  \n66432             90      2023            8.1      47.0  \n66433            104      2024            3.8   12096.0  \n\n[66434 rows x 8 columns]",
                        "text/html": "<div>\n<style scoped>\n    .dataframe tbody tr th:only-of-type {\n        vertical-align: middle;\n    }\n\n    .dataframe tbody tr th {\n        vertical-align: top;\n    }\n\n    .dataframe thead th {\n        text-align: right;\n    }\n</style>\n<table border=\"1\" class=\"dataframe\">\n  <thead>\n    <tr style=\"text-align: right;\">\n      <th></th>\n      <th>tconst</th>\n      <th>title</th>\n      <th>primaryTitle</th>\n      <th>genres</th>\n      <th>runtimeMinutes</th>\n      <th>startYear</th>\n      <th>averageRating</th>\n      <th>numVotes</th>\n    </tr>\n  </thead>\n  <tbody>\n    <tr>\n      <th>0</th>\n      <td>tt0000591</td>\n      <td>L'enfant prodigue</td>\n      <td>The Prodigal Son</td>\n      <td>Drama</td>\n      <td>90</td>\n      <td>1907</td>\n      <td>5.6</td>\n      <td>31.0</td>\n    </tr>\n    <tr>\n      <th>1</th>\n      <td>tt0000886</td>\n      <td>Hamlet</td>\n      <td>Hamlet, Prince of Denmark</td>\n      <td>Drama</td>\n      <td>\\N</td>\n      <td>1910</td>\n      <td>4.5</td>\n      <td>41.0</td>\n    </tr>\n    <tr>\n      <th>2</th>\n      <td>tt0001101</td>\n      <td>La Clémence d'Abraham Lincoln</td>\n      <td>Abraham Lincoln's Clemency</td>\n      <td>\\N</td>\n      <td>\\N</td>\n      <td>1910</td>\n      <td>4.8</td>\n      <td>41.0</td>\n    </tr>\n    <tr>\n      <th>3</th>\n      <td>tt0001122</td>\n      <td>L'auberge rouge</td>\n      <td>The Red Inn</td>\n      <td>\\N</td>\n      <td>\\N</td>\n      <td>1910</td>\n      <td>4.9</td>\n      <td>21.0</td>\n    </tr>\n    <tr>\n      <th>4</th>\n      <td>tt0001175</td>\n      <td>La dame aux camélias</td>\n      <td>Camille</td>\n      <td>Drama,Romance</td>\n      <td>\\N</td>\n      <td>1912</td>\n      <td>5.4</td>\n      <td>46.0</td>\n    </tr>\n    <tr>\n      <th>...</th>\n      <td>...</td>\n      <td>...</td>\n      <td>...</td>\n      <td>...</td>\n      <td>...</td>\n      <td>...</td>\n      <td>...</td>\n      <td>...</td>\n    </tr>\n    <tr>\n      <th>66429</th>\n      <td>tt30004022</td>\n      <td>Moroccan Badass Girl</td>\n      <td>Moroccan Badass Girl</td>\n      <td>Comedy</td>\n      <td>83</td>\n      <td>2023</td>\n      <td>5.8</td>\n      <td>124.0</td>\n    </tr>\n    <tr>\n      <th>66430</th>\n      <td>tt3000430</td>\n      <td>Little Gay Boy</td>\n      <td>Little Gay Boy</td>\n      <td>Drama</td>\n      <td>72</td>\n      <td>2013</td>\n      <td>4.4</td>\n      <td>187.0</td>\n    </tr>\n    <tr>\n      <th>66431</th>\n      <td>tt30005746</td>\n      <td>Le Nouveau Berlin</td>\n      <td>New Berlin</td>\n      <td>Adventure,Drama,History</td>\n      <td>126</td>\n      <td>2023</td>\n      <td>7.3</td>\n      <td>8.0</td>\n    </tr>\n    <tr>\n      <th>66432</th>\n      <td>tt30006495</td>\n      <td>Callas Paris 1958</td>\n      <td>Callas - Paris, 1958</td>\n      <td>\\N</td>\n      <td>90</td>\n      <td>2023</td>\n      <td>8.1</td>\n      <td>47.0</td>\n    </tr>\n    <tr>\n      <th>66433</th>\n      <td>tt30007864</td>\n      <td>The American Society of Magical Negroes</td>\n      <td>The American Society of Magical Negroes</td>\n      <td>Comedy,Fantasy</td>\n      <td>104</td>\n      <td>2024</td>\n      <td>3.8</td>\n      <td>12096.0</td>\n    </tr>\n  </tbody>\n</table>\n<p>66434 rows × 8 columns</p>\n</div>"
                    },
                    "metadata": {}
                }
            ],
            "outputs_reference": "s3:deepnote-cell-outputs-production/175f9f60-f10b-4221-b588-e97cef6acdff",
            "content_dependencies": null
        },
        {
            "cell_type": "code",
            "metadata": {
                "source_hash": "22157c1a",
                "execution_start": 1748612861750,
                "execution_millis": 16,
                "execution_context_id": "4e5321f0-ec9f-41a2-9781-65b6aeff5125",
                "cell_id": "da6d0b071f6c415fa5d4e58bba0747c1",
                "deepnote_cell_type": "code"
            },
            "source": "#59 134 films  répartis sur 66 434 lignes\ndf_movies_cleaned['tconst'].nunique()\n",
            "block_group": "5ca4820b9e8f409e9306d0ff62ca812d",
            "execution_count": 49,
            "outputs": [
                {
                    "output_type": "execute_result",
                    "execution_count": 49,
                    "data": {
                        "text/plain": "59134"
                    },
                    "metadata": {}
                }
            ],
            "outputs_reference": "dbtable:cell_outputs/e16200c0-510b-4f82-93ef-cb48480ea488",
            "content_dependencies": null
        },
        {
            "cell_type": "code",
            "metadata": {
                "source_hash": "cc8c8b05",
                "execution_start": 1748612864856,
                "execution_millis": 1,
                "execution_context_id": "4e5321f0-ec9f-41a2-9781-65b6aeff5125",
                "cell_id": "bb12d2d0184a4bd48cc452ce505886c9",
                "deepnote_cell_type": "code"
            },
            "source": "#verifier les doublons sur tconst\ndf_movies_cleaned['tconst'].duplicated().sum()",
            "block_group": "9fcc36fb3b03441a81641e6acf9cb41c",
            "execution_count": 52,
            "outputs": [
                {
                    "output_type": "execute_result",
                    "execution_count": 52,
                    "data": {
                        "text/plain": "7300"
                    },
                    "metadata": {}
                }
            ],
            "outputs_reference": "dbtable:cell_outputs/9ac7687c-c4ad-45b7-88dc-0ec4d8549491",
            "content_dependencies": null
        },
        {
            "cell_type": "code",
            "metadata": {
                "source_hash": "38225530",
                "execution_start": 1748612868241,
                "execution_millis": 199,
                "execution_context_id": "4e5321f0-ec9f-41a2-9781-65b6aeff5125",
                "cell_id": "13b1046319f4412e80896ca8a5c99b06",
                "deepnote_cell_type": "code"
            },
            "source": "df_movies_cleaned2= df_movies.drop_duplicates(subset=['tconst']).reset_index(drop=True)\ndf_movies_cleaned2",
            "block_group": "a34d8d79cf914943876942f4d04b4470",
            "execution_count": 55,
            "outputs": [
                {
                    "output_type": "execute_result",
                    "execution_count": 55,
                    "data": {
                        "application/vnd.deepnote.dataframe.v3+json": {
                            "column_count": 8,
                            "row_count": 59134,
                            "columns": [
                                {
                                    "name": "tconst",
                                    "dtype": "object",
                                    "stats": {
                                        "unique_count": 59134,
                                        "nan_count": 0,
                                        "categories": [
                                            {
                                                "name": "tt0000591",
                                                "count": 1
                                            },
                                            {
                                                "name": "tt0000886",
                                                "count": 1
                                            },
                                            {
                                                "name": "59132 others",
                                                "count": 59132
                                            }
                                        ]
                                    }
                                },
                                {
                                    "name": "title",
                                    "dtype": "object"
                                },
                                {
                                    "name": "primaryTitle",
                                    "dtype": "object"
                                },
                                {
                                    "name": "genres",
                                    "dtype": "object"
                                },
                                {
                                    "name": "runtimeMinutes",
                                    "dtype": "object"
                                },
                                {
                                    "name": "startYear",
                                    "dtype": "object"
                                },
                                {
                                    "name": "averageRating",
                                    "dtype": "float64"
                                },
                                {
                                    "name": "numVotes",
                                    "dtype": "float64"
                                },
                                {
                                    "name": "_deepnote_index_column",
                                    "dtype": "int64"
                                }
                            ],
                            "rows": [
                                {
                                    "tconst": "tt0000591",
                                    "title": "L'enfant prodigue",
                                    "primaryTitle": "The Prodigal Son",
                                    "genres": "Drama",
                                    "runtimeMinutes": "90",
                                    "startYear": "1907",
                                    "averageRating": 5.6,
                                    "numVotes": 31,
                                    "_deepnote_index_column": 0
                                },
                                {
                                    "tconst": "tt0000886",
                                    "title": "Hamlet",
                                    "primaryTitle": "Hamlet, Prince of Denmark",
                                    "genres": "Drama",
                                    "runtimeMinutes": "\\N",
                                    "startYear": "1910",
                                    "averageRating": 4.5,
                                    "numVotes": 41,
                                    "_deepnote_index_column": 1
                                },
                                {
                                    "tconst": "tt0001101",
                                    "title": "La Clémence d'Abraham Lincoln",
                                    "primaryTitle": "Abraham Lincoln's Clemency",
                                    "genres": "\\N",
                                    "runtimeMinutes": "\\N",
                                    "startYear": "1910",
                                    "averageRating": 4.8,
                                    "numVotes": 41,
                                    "_deepnote_index_column": 2
                                },
                                {
                                    "tconst": "tt0001122",
                                    "title": "L'auberge rouge",
                                    "primaryTitle": "The Red Inn",
                                    "genres": "\\N",
                                    "runtimeMinutes": "\\N",
                                    "startYear": "1910",
                                    "averageRating": 4.9,
                                    "numVotes": 21,
                                    "_deepnote_index_column": 3
                                },
                                {
                                    "tconst": "tt0001175",
                                    "title": "La dame aux camélias",
                                    "primaryTitle": "Camille",
                                    "genres": "Drama,Romance",
                                    "runtimeMinutes": "\\N",
                                    "startYear": "1912",
                                    "averageRating": 5.4,
                                    "numVotes": 46,
                                    "_deepnote_index_column": 4
                                },
                                {
                                    "tconst": "tt0001285",
                                    "title": "La Vie de Moïse",
                                    "primaryTitle": "The Life of Moses",
                                    "genres": "Biography,Drama,Family",
                                    "runtimeMinutes": "50",
                                    "startYear": "1909",
                                    "averageRating": 5.5,
                                    "numVotes": 65,
                                    "_deepnote_index_column": 5
                                },
                                {
                                    "tconst": "tt0001386",
                                    "title": "Le roi des parfums",
                                    "primaryTitle": "Le roi des parfums",
                                    "genres": "\\N",
                                    "runtimeMinutes": "\\N",
                                    "startYear": "1910",
                                    "averageRating": 4.3,
                                    "numVotes": 21,
                                    "_deepnote_index_column": 6
                                },
                                {
                                    "tconst": "tt0001614",
                                    "title": "Les Quatre Diables",
                                    "primaryTitle": "The Four Devils",
                                    "genres": "Drama",
                                    "runtimeMinutes": "60",
                                    "startYear": "1911",
                                    "averageRating": 6.5,
                                    "numVotes": 44,
                                    "_deepnote_index_column": 7
                                },
                                {
                                    "tconst": "tt0001790",
                                    "title": "Les misérables - Époque 1: Jean Valjean",
                                    "primaryTitle": "Les Misérables, Part 1: Jean Valjean",
                                    "genres": "Drama",
                                    "runtimeMinutes": "60",
                                    "startYear": "1913",
                                    "averageRating": 5.9,
                                    "numVotes": 60,
                                    "_deepnote_index_column": 8
                                },
                                {
                                    "tconst": "tt0001993",
                                    "title": "L'électrocuté",
                                    "primaryTitle": "L'électrocuté",
                                    "genres": "Sci-Fi",
                                    "runtimeMinutes": "\\N",
                                    "startYear": "1911",
                                    "averageRating": 4.1,
                                    "numVotes": 22,
                                    "_deepnote_index_column": 9
                                },
                                {
                                    "tconst": "tt0002130",
                                    "title": "L'Enfer",
                                    "primaryTitle": "Dante's Inferno",
                                    "genres": "Adventure,Drama,Fantasy",
                                    "runtimeMinutes": "71",
                                    "startYear": "1911",
                                    "averageRating": 7,
                                    "numVotes": 3810,
                                    "_deepnote_index_column": 10
                                },
                                {
                                    "tconst": "tt0002199",
                                    "title": "De la crèche à la croix",
                                    "primaryTitle": "From the Manger to the Cross",
                                    "genres": "Biography,Drama",
                                    "runtimeMinutes": "71",
                                    "startYear": "1912",
                                    "averageRating": 5.8,
                                    "numVotes": 677,
                                    "_deepnote_index_column": 11
                                },
                                {
                                    "tconst": "tt0002262",
                                    "title": "Il y a des pieds au plafond",
                                    "primaryTitle": "Il y a des pieds au plafond",
                                    "genres": "\\N",
                                    "runtimeMinutes": "\\N",
                                    "startYear": "1912",
                                    "averageRating": 5.4,
                                    "numVotes": 14,
                                    "_deepnote_index_column": 12
                                },
                                {
                                    "tconst": "tt0002375",
                                    "title": "La mort du duc d'Enghien",
                                    "primaryTitle": "La mort du duc d'Enghien",
                                    "genres": "\\N",
                                    "runtimeMinutes": "\\N",
                                    "startYear": "1912",
                                    "averageRating": 5.2,
                                    "numVotes": 15,
                                    "_deepnote_index_column": 13
                                },
                                {
                                    "tconst": "tt0002395",
                                    "title": "Le nègre blanc",
                                    "primaryTitle": "Le nègre blanc",
                                    "genres": "\\N",
                                    "runtimeMinutes": "\\N",
                                    "startYear": "1912",
                                    "averageRating": 4.8,
                                    "numVotes": 15,
                                    "_deepnote_index_column": 14
                                },
                                {
                                    "tconst": "tt0002423",
                                    "title": "Passion",
                                    "primaryTitle": "Passion",
                                    "genres": "Biography,Drama,Romance",
                                    "runtimeMinutes": "113",
                                    "startYear": "1919",
                                    "averageRating": 6.6,
                                    "numVotes": 1077,
                                    "_deepnote_index_column": 15
                                },
                                {
                                    "tconst": "tt0002431",
                                    "title": "La pierre philosophe",
                                    "primaryTitle": "La pierre philosophe",
                                    "genres": "\\N",
                                    "runtimeMinutes": "\\N",
                                    "startYear": "1912",
                                    "averageRating": 5,
                                    "numVotes": 15,
                                    "_deepnote_index_column": 16
                                },
                                {
                                    "tconst": "tt0002445",
                                    "title": "Quo Vadis?",
                                    "primaryTitle": "Quo Vadis?",
                                    "genres": "Drama,History",
                                    "runtimeMinutes": "120",
                                    "startYear": "1913",
                                    "averageRating": 6.1,
                                    "numVotes": 495,
                                    "_deepnote_index_column": 17
                                },
                                {
                                    "tconst": "tt0002461",
                                    "title": "Richard III",
                                    "primaryTitle": "The Life and Death of King Richard III",
                                    "genres": "Drama",
                                    "runtimeMinutes": "55",
                                    "startYear": "1912",
                                    "averageRating": 5.7,
                                    "numVotes": 340,
                                    "_deepnote_index_column": 18
                                },
                                {
                                    "tconst": "tt0002514",
                                    "title": "Le masque noir",
                                    "primaryTitle": "Saved in Mid-Air",
                                    "genres": "Drama",
                                    "runtimeMinutes": "60",
                                    "startYear": "1912",
                                    "averageRating": 4.9,
                                    "numVotes": 19,
                                    "_deepnote_index_column": 19
                                },
                                {
                                    "tconst": "tt0002555",
                                    "title": "Le Dernier Bohême",
                                    "primaryTitle": "The Last Bohemian",
                                    "genres": "Drama,Romance",
                                    "runtimeMinutes": "\\N",
                                    "startYear": "1913",
                                    "averageRating": 4.4,
                                    "numVotes": 52,
                                    "_deepnote_index_column": 20
                                },
                                {
                                    "tconst": "tt0002588",
                                    "title": "Zigomar contre Nick Carter",
                                    "primaryTitle": "Zigomar contre Nick Carter",
                                    "genres": "Crime,Thriller",
                                    "runtimeMinutes": "48",
                                    "startYear": "1912",
                                    "averageRating": 6,
                                    "numVotes": 55,
                                    "_deepnote_index_column": 21
                                },
                                {
                                    "tconst": "tt0002605",
                                    "title": "Les aventures de Kathlyn",
                                    "primaryTitle": "The Adventures of Kathlyn",
                                    "genres": "Adventure",
                                    "runtimeMinutes": "300",
                                    "startYear": "1913",
                                    "averageRating": 5.5,
                                    "numVotes": 49,
                                    "_deepnote_index_column": 22
                                },
                                {
                                    "tconst": "tt0002646",
                                    "title": "Atlantis",
                                    "primaryTitle": "Atlantis",
                                    "genres": "Drama",
                                    "runtimeMinutes": "121",
                                    "startYear": "1913",
                                    "averageRating": 6.5,
                                    "numVotes": 513,
                                    "_deepnote_index_column": 23
                                },
                                {
                                    "tconst": "tt0002669",
                                    "title": "Le Désastre",
                                    "primaryTitle": "The Battle of Gettysburg",
                                    "genres": "Drama,War",
                                    "runtimeMinutes": "48",
                                    "startYear": "1913",
                                    "averageRating": 6.6,
                                    "numVotes": 42,
                                    "_deepnote_index_column": 24
                                }
                            ],
                            "type": "dataframe"
                        },
                        "text/plain": "           tconst                                    title  \\\n0       tt0000591                        L'enfant prodigue   \n1       tt0000886                                   Hamlet   \n2       tt0001101            La Clémence d'Abraham Lincoln   \n3       tt0001122                          L'auberge rouge   \n4       tt0001175                     La dame aux camélias   \n...           ...                                      ...   \n59129  tt30004022                     Moroccan Badass Girl   \n59130   tt3000430                           Little Gay Boy   \n59131  tt30005746                        Le Nouveau Berlin   \n59132  tt30006495                        Callas Paris 1958   \n59133  tt30007864  The American Society of Magical Negroes   \n\n                                  primaryTitle                   genres  \\\n0                             The Prodigal Son                    Drama   \n1                    Hamlet, Prince of Denmark                    Drama   \n2                   Abraham Lincoln's Clemency                       \\N   \n3                                  The Red Inn                       \\N   \n4                                      Camille            Drama,Romance   \n...                                        ...                      ...   \n59129                     Moroccan Badass Girl                   Comedy   \n59130                           Little Gay Boy                    Drama   \n59131                               New Berlin  Adventure,Drama,History   \n59132                     Callas - Paris, 1958                       \\N   \n59133  The American Society of Magical Negroes           Comedy,Fantasy   \n\n      runtimeMinutes startYear  averageRating  numVotes  \n0                 90      1907            5.6      31.0  \n1                 \\N      1910            4.5      41.0  \n2                 \\N      1910            4.8      41.0  \n3                 \\N      1910            4.9      21.0  \n4                 \\N      1912            5.4      46.0  \n...              ...       ...            ...       ...  \n59129             83      2023            5.8     124.0  \n59130             72      2013            4.4     187.0  \n59131            126      2023            7.3       8.0  \n59132             90      2023            8.1      47.0  \n59133            104      2024            3.8   12096.0  \n\n[59134 rows x 8 columns]",
                        "text/html": "<div>\n<style scoped>\n    .dataframe tbody tr th:only-of-type {\n        vertical-align: middle;\n    }\n\n    .dataframe tbody tr th {\n        vertical-align: top;\n    }\n\n    .dataframe thead th {\n        text-align: right;\n    }\n</style>\n<table border=\"1\" class=\"dataframe\">\n  <thead>\n    <tr style=\"text-align: right;\">\n      <th></th>\n      <th>tconst</th>\n      <th>title</th>\n      <th>primaryTitle</th>\n      <th>genres</th>\n      <th>runtimeMinutes</th>\n      <th>startYear</th>\n      <th>averageRating</th>\n      <th>numVotes</th>\n    </tr>\n  </thead>\n  <tbody>\n    <tr>\n      <th>0</th>\n      <td>tt0000591</td>\n      <td>L'enfant prodigue</td>\n      <td>The Prodigal Son</td>\n      <td>Drama</td>\n      <td>90</td>\n      <td>1907</td>\n      <td>5.6</td>\n      <td>31.0</td>\n    </tr>\n    <tr>\n      <th>1</th>\n      <td>tt0000886</td>\n      <td>Hamlet</td>\n      <td>Hamlet, Prince of Denmark</td>\n      <td>Drama</td>\n      <td>\\N</td>\n      <td>1910</td>\n      <td>4.5</td>\n      <td>41.0</td>\n    </tr>\n    <tr>\n      <th>2</th>\n      <td>tt0001101</td>\n      <td>La Clémence d'Abraham Lincoln</td>\n      <td>Abraham Lincoln's Clemency</td>\n      <td>\\N</td>\n      <td>\\N</td>\n      <td>1910</td>\n      <td>4.8</td>\n      <td>41.0</td>\n    </tr>\n    <tr>\n      <th>3</th>\n      <td>tt0001122</td>\n      <td>L'auberge rouge</td>\n      <td>The Red Inn</td>\n      <td>\\N</td>\n      <td>\\N</td>\n      <td>1910</td>\n      <td>4.9</td>\n      <td>21.0</td>\n    </tr>\n    <tr>\n      <th>4</th>\n      <td>tt0001175</td>\n      <td>La dame aux camélias</td>\n      <td>Camille</td>\n      <td>Drama,Romance</td>\n      <td>\\N</td>\n      <td>1912</td>\n      <td>5.4</td>\n      <td>46.0</td>\n    </tr>\n    <tr>\n      <th>...</th>\n      <td>...</td>\n      <td>...</td>\n      <td>...</td>\n      <td>...</td>\n      <td>...</td>\n      <td>...</td>\n      <td>...</td>\n      <td>...</td>\n    </tr>\n    <tr>\n      <th>59129</th>\n      <td>tt30004022</td>\n      <td>Moroccan Badass Girl</td>\n      <td>Moroccan Badass Girl</td>\n      <td>Comedy</td>\n      <td>83</td>\n      <td>2023</td>\n      <td>5.8</td>\n      <td>124.0</td>\n    </tr>\n    <tr>\n      <th>59130</th>\n      <td>tt3000430</td>\n      <td>Little Gay Boy</td>\n      <td>Little Gay Boy</td>\n      <td>Drama</td>\n      <td>72</td>\n      <td>2013</td>\n      <td>4.4</td>\n      <td>187.0</td>\n    </tr>\n    <tr>\n      <th>59131</th>\n      <td>tt30005746</td>\n      <td>Le Nouveau Berlin</td>\n      <td>New Berlin</td>\n      <td>Adventure,Drama,History</td>\n      <td>126</td>\n      <td>2023</td>\n      <td>7.3</td>\n      <td>8.0</td>\n    </tr>\n    <tr>\n      <th>59132</th>\n      <td>tt30006495</td>\n      <td>Callas Paris 1958</td>\n      <td>Callas - Paris, 1958</td>\n      <td>\\N</td>\n      <td>90</td>\n      <td>2023</td>\n      <td>8.1</td>\n      <td>47.0</td>\n    </tr>\n    <tr>\n      <th>59133</th>\n      <td>tt30007864</td>\n      <td>The American Society of Magical Negroes</td>\n      <td>The American Society of Magical Negroes</td>\n      <td>Comedy,Fantasy</td>\n      <td>104</td>\n      <td>2024</td>\n      <td>3.8</td>\n      <td>12096.0</td>\n    </tr>\n  </tbody>\n</table>\n<p>59134 rows × 8 columns</p>\n</div>"
                    },
                    "metadata": {}
                }
            ],
            "outputs_reference": "s3:deepnote-cell-outputs-production/e7e96702-7dbc-4dc8-ab0c-5600beeb98f2",
            "content_dependencies": null
        },
        {
            "cell_type": "code",
            "metadata": {
                "source_hash": "18399391",
                "execution_start": 1748612871914,
                "execution_millis": 1544,
                "execution_context_id": "4e5321f0-ec9f-41a2-9781-65b6aeff5125",
                "cell_id": "485ece35ef9c46efa554fc0cfce6bb0e",
                "deepnote_cell_type": "code"
            },
            "source": "df_movies_cleaned2.to_csv('/work/IMDB_FR_MOVIES.tsv.gz',sep='\\t',index=False,compression='gzip')",
            "block_group": "914bde92049f4d4d9e4f87c1072d333b",
            "execution_count": 58,
            "outputs": [],
            "outputs_reference": null,
            "content_dependencies": null
        },
        {
            "cell_type": "markdown",
            "metadata": {
                "checked": true,
                "formattedRanges": [],
                "cell_id": "214137c41570414d8bd26104a1fe2130",
                "deepnote_cell_type": "text-cell-todo"
            },
            "source": "- [x] Supprimer colonnes inutiles. ",
            "block_group": "3640132db60840848094d43daec14505"
        },
        {
            "cell_type": "markdown",
            "metadata": {
                "checked": true,
                "formattedRanges": [],
                "cell_id": "25350a988361499b8be60cc0ed7156b2",
                "deepnote_cell_type": "text-cell-todo"
            },
            "source": "- [x] Extraire un fichier depuis le Df de départ dans lequel on saurait pour chaque personne son rôle dans un film",
            "block_group": "1fb2e04d85c346dbafd54b5ca34f6b10"
        },
        {
            "cell_type": "markdown",
            "metadata": {
                "checked": false,
                "formattedRanges": [],
                "cell_id": "2a8cbff4f3e948f5a5e17f2e4a11f00e",
                "deepnote_cell_type": "text-cell-todo"
            },
            "source": "- [ ] TMDB donne l'info de nationalité du film, la langue , le runtime. Donc écrémage avec la proportion des contenus une fois les deux fichier rassemblés. ",
            "block_group": "35c6dec9b9cc4585996114e1d334a8cb"
        },
        {
            "cell_type": "code",
            "metadata": {
                "source_hash": "ba5ca2de",
                "execution_start": 1748612876466,
                "execution_millis": 242,
                "execution_context_id": "4e5321f0-ec9f-41a2-9781-65b6aeff5125",
                "cell_id": "8e117c93a5c747b6a63eaa2b607568ce",
                "deepnote_cell_type": "code"
            },
            "source": "#fichier people\ndf_imdb_people= df[['nconst','primaryName','tconst','category','genres','primaryTitle','originalTitle','startYear','averageRating']]\ndf_imdb_people",
            "block_group": "09eefab73bf54dff966a512509c4ad2b",
            "execution_count": 61,
            "outputs": [
                {
                    "output_type": "execute_result",
                    "execution_count": 61,
                    "data": {
                        "application/vnd.deepnote.dataframe.v3+json": {
                            "column_count": 9,
                            "row_count": 624046,
                            "columns": [
                                {
                                    "name": "nconst",
                                    "dtype": "object"
                                },
                                {
                                    "name": "primaryName",
                                    "dtype": "object"
                                },
                                {
                                    "name": "tconst",
                                    "dtype": "object"
                                },
                                {
                                    "name": "category",
                                    "dtype": "object"
                                },
                                {
                                    "name": "genres",
                                    "dtype": "object"
                                },
                                {
                                    "name": "primaryTitle",
                                    "dtype": "object"
                                },
                                {
                                    "name": "originalTitle",
                                    "dtype": "object"
                                },
                                {
                                    "name": "startYear",
                                    "dtype": "object"
                                },
                                {
                                    "name": "averageRating",
                                    "dtype": "float64"
                                },
                                {
                                    "name": "_deepnote_index_column",
                                    "dtype": "int64"
                                }
                            ],
                            "rows": [
                                {
                                    "nconst": "nm0141150",
                                    "primaryName": "Michel Carré",
                                    "tconst": "tt0000591",
                                    "category": "director",
                                    "genres": "Drama",
                                    "primaryTitle": "The Prodigal Son",
                                    "originalTitle": "L'enfant prodigue",
                                    "startYear": "1907",
                                    "averageRating": 5.6,
                                    "_deepnote_index_column": 0
                                },
                                {
                                    "nconst": "nm0141150",
                                    "primaryName": "Michel Carré",
                                    "tconst": "tt0000591",
                                    "category": "writer",
                                    "genres": "Drama",
                                    "primaryTitle": "The Prodigal Son",
                                    "originalTitle": "L'enfant prodigue",
                                    "startYear": "1907",
                                    "averageRating": 5.6,
                                    "_deepnote_index_column": 1
                                },
                                {
                                    "nconst": "nm0000636",
                                    "primaryName": "William Shakespeare",
                                    "tconst": "tt0000886",
                                    "category": "writer",
                                    "genres": "Drama",
                                    "primaryTitle": "Hamlet, Prince of Denmark",
                                    "originalTitle": "Hamlet",
                                    "startYear": "1910",
                                    "averageRating": 4.5,
                                    "_deepnote_index_column": 2
                                },
                                {
                                    "nconst": "nm0923594",
                                    "primaryName": "Leopold Wharton",
                                    "tconst": "tt0001101",
                                    "category": "actor",
                                    "genres": "\\N",
                                    "primaryTitle": "Abraham Lincoln's Clemency",
                                    "originalTitle": "Abraham Lincoln's Clemency",
                                    "startYear": "1910",
                                    "averageRating": 4.8,
                                    "_deepnote_index_column": 3
                                },
                                {
                                    "nconst": "nm0923603",
                                    "primaryName": "Theodore Wharton",
                                    "tconst": "tt0001101",
                                    "category": "director",
                                    "genres": "\\N",
                                    "primaryTitle": "Abraham Lincoln's Clemency",
                                    "originalTitle": "Abraham Lincoln's Clemency",
                                    "startYear": "1910",
                                    "averageRating": 4.8,
                                    "_deepnote_index_column": 4
                                },
                                {
                                    "nconst": "nm0923603",
                                    "primaryName": "Theodore Wharton",
                                    "tconst": "tt0001101",
                                    "category": "producer",
                                    "genres": "\\N",
                                    "primaryTitle": "Abraham Lincoln's Clemency",
                                    "originalTitle": "Abraham Lincoln's Clemency",
                                    "startYear": "1910",
                                    "averageRating": 4.8,
                                    "_deepnote_index_column": 5
                                },
                                {
                                    "nconst": "nm0051304",
                                    "primaryName": "Honoré de Balzac",
                                    "tconst": "tt0001122",
                                    "category": "writer",
                                    "genres": "\\N",
                                    "primaryTitle": "The Red Inn",
                                    "originalTitle": "L'auberge rouge",
                                    "startYear": "1910",
                                    "averageRating": 4.9,
                                    "_deepnote_index_column": 6
                                },
                                {
                                    "nconst": "nm0154988",
                                    "primaryName": "Jeanne Cheirel",
                                    "tconst": "tt0001122",
                                    "category": "actress",
                                    "genres": "\\N",
                                    "primaryTitle": "The Red Inn",
                                    "originalTitle": "L'auberge rouge",
                                    "startYear": "1910",
                                    "averageRating": 4.9,
                                    "_deepnote_index_column": 7
                                },
                                {
                                    "nconst": "nm0304098",
                                    "primaryName": "Abel Gance",
                                    "tconst": "tt0001122",
                                    "category": "writer",
                                    "genres": "\\N",
                                    "primaryTitle": "The Red Inn",
                                    "originalTitle": "L'auberge rouge",
                                    "startYear": "1910",
                                    "averageRating": 4.9,
                                    "_deepnote_index_column": 8
                                },
                                {
                                    "nconst": "nm0076800",
                                    "primaryName": "Sarah Bernhardt",
                                    "tconst": "tt0001175",
                                    "category": "actress",
                                    "genres": "Drama,Romance",
                                    "primaryTitle": "Camille",
                                    "originalTitle": "La dame aux camélias",
                                    "startYear": "1912",
                                    "averageRating": 5.4,
                                    "_deepnote_index_column": 9
                                },
                                {
                                    "nconst": "nm0130633",
                                    "primaryName": "André Calmettes",
                                    "tconst": "tt0001175",
                                    "category": "director",
                                    "genres": "Drama,Romance",
                                    "primaryTitle": "Camille",
                                    "originalTitle": "La dame aux camélias",
                                    "startYear": "1912",
                                    "averageRating": 5.4,
                                    "_deepnote_index_column": 10
                                },
                                {
                                    "nconst": "nm0221142",
                                    "primaryName": "Henri Desfontaines",
                                    "tconst": "tt0001175",
                                    "category": "actor",
                                    "genres": "Drama,Romance",
                                    "primaryTitle": "Camille",
                                    "originalTitle": "La dame aux camélias",
                                    "startYear": "1912",
                                    "averageRating": 5.4,
                                    "_deepnote_index_column": 11
                                },
                                {
                                    "nconst": "nm0561109",
                                    "primaryName": "Clément Maurice",
                                    "tconst": "tt0001175",
                                    "category": "cinematographer",
                                    "genres": "Drama,Romance",
                                    "primaryTitle": "Camille",
                                    "originalTitle": "La dame aux camélias",
                                    "startYear": "1912",
                                    "averageRating": 5.4,
                                    "_deepnote_index_column": 12
                                },
                                {
                                    "nconst": "nm0580197",
                                    "primaryName": "Louis Mercanton",
                                    "tconst": "tt0001175",
                                    "category": "director",
                                    "genres": "Drama,Romance",
                                    "primaryTitle": "Camille",
                                    "originalTitle": "La dame aux camélias",
                                    "startYear": "1912",
                                    "averageRating": 5.4,
                                    "_deepnote_index_column": 13
                                },
                                {
                                    "nconst": "nm0693516",
                                    "primaryName": "Henri Pouctal",
                                    "tconst": "tt0001175",
                                    "category": "actor",
                                    "genres": "Drama,Romance",
                                    "primaryTitle": "Camille",
                                    "originalTitle": "La dame aux camélias",
                                    "startYear": "1912",
                                    "averageRating": 5.4,
                                    "_deepnote_index_column": 14
                                },
                                {
                                    "nconst": "nm0693516",
                                    "primaryName": "Henri Pouctal",
                                    "tconst": "tt0001175",
                                    "category": "director",
                                    "genres": "Drama,Romance",
                                    "primaryTitle": "Camille",
                                    "originalTitle": "La dame aux camélias",
                                    "startYear": "1912",
                                    "averageRating": 5.4,
                                    "_deepnote_index_column": 15
                                },
                                {
                                    "nconst": "nm0693516",
                                    "primaryName": "Henri Pouctal",
                                    "tconst": "tt0001175",
                                    "category": "writer",
                                    "genres": "Drama,Romance",
                                    "primaryTitle": "Camille",
                                    "originalTitle": "La dame aux camélias",
                                    "startYear": "1912",
                                    "averageRating": 5.4,
                                    "_deepnote_index_column": 16
                                },
                                {
                                    "nconst": "nm0854414",
                                    "primaryName": "Lou Tellegen",
                                    "tconst": "tt0001175",
                                    "category": "actor",
                                    "genres": "Drama,Romance",
                                    "primaryTitle": "Camille",
                                    "originalTitle": "La dame aux camélias",
                                    "startYear": "1912",
                                    "averageRating": 5.4,
                                    "_deepnote_index_column": 17
                                },
                                {
                                    "nconst": "nm0085865",
                                    "primaryName": "J. Stuart Blackton",
                                    "tconst": "tt0001285",
                                    "category": "director",
                                    "genres": "Biography,Drama,Family",
                                    "primaryTitle": "The Life of Moses",
                                    "originalTitle": "The Life of Moses",
                                    "startYear": "1909",
                                    "averageRating": 5.5,
                                    "_deepnote_index_column": 18
                                },
                                {
                                    "nconst": "nm0366742",
                                    "primaryName": "Pat Hartigan",
                                    "tconst": "tt0001285",
                                    "category": "actor",
                                    "genres": "Biography,Drama,Family",
                                    "primaryTitle": "The Life of Moses",
                                    "originalTitle": "The Life of Moses",
                                    "startYear": "1909",
                                    "averageRating": 5.5,
                                    "_deepnote_index_column": 19
                                },
                                {
                                    "nconst": "nm0401967",
                                    "primaryName": "William Humphrey",
                                    "tconst": "tt0001285",
                                    "category": "actor",
                                    "genres": "Biography,Drama,Family",
                                    "primaryTitle": "The Life of Moses",
                                    "originalTitle": "The Life of Moses",
                                    "startYear": "1909",
                                    "averageRating": 5.5,
                                    "_deepnote_index_column": 20
                                },
                                {
                                    "nconst": "nm0448682",
                                    "primaryName": "Charles Kent",
                                    "tconst": "tt0001285",
                                    "category": "actor",
                                    "genres": "Biography,Drama,Family",
                                    "primaryTitle": "The Life of Moses",
                                    "originalTitle": "The Life of Moses",
                                    "startYear": "1909",
                                    "averageRating": 5.5,
                                    "_deepnote_index_column": 21
                                },
                                {
                                    "nconst": "nm0304098",
                                    "primaryName": "Abel Gance",
                                    "tconst": "tt0001386",
                                    "category": "writer",
                                    "genres": "\\N",
                                    "primaryTitle": "Le roi des parfums",
                                    "originalTitle": "Le roi des parfums",
                                    "startYear": "1910",
                                    "averageRating": 4.3,
                                    "_deepnote_index_column": 22
                                },
                                {
                                    "nconst": "nm0227602",
                                    "primaryName": "Robert Dinesen",
                                    "tconst": "tt0001614",
                                    "category": "actor",
                                    "genres": "Drama",
                                    "primaryTitle": "The Four Devils",
                                    "originalTitle": "De fire djævle",
                                    "startYear": "1911",
                                    "averageRating": 6.5,
                                    "_deepnote_index_column": 23
                                },
                                {
                                    "nconst": "nm0227602",
                                    "primaryName": "Robert Dinesen",
                                    "tconst": "tt0001614",
                                    "category": "director",
                                    "genres": "Drama",
                                    "primaryTitle": "The Four Devils",
                                    "originalTitle": "De fire djævle",
                                    "startYear": "1911",
                                    "averageRating": 6.5,
                                    "_deepnote_index_column": 24
                                }
                            ],
                            "type": "dataframe"
                        },
                        "text/plain": "           nconst          primaryName      tconst  category          genres  \\\n0       nm0141150         Michel Carré   tt0000591  director           Drama   \n1       nm0141150         Michel Carré   tt0000591    writer           Drama   \n2       nm0000636  William Shakespeare   tt0000886    writer           Drama   \n3       nm0923594      Leopold Wharton   tt0001101     actor              \\N   \n4       nm0923603     Theodore Wharton   tt0001101  director              \\N   \n...           ...                  ...         ...       ...             ...   \n624041  nm3633426           Kobi Libii  tt30007864  director  Comedy,Fantasy   \n624042  nm3633426           Kobi Libii  tt30007864    writer  Comedy,Fantasy   \n624043  nm3633426           Kobi Libii  tt30007864  producer  Comedy,Fantasy   \n624044  nm3649782          Angel Lopez  tt30007864  producer  Comedy,Fantasy   \n624045  nm6819854        Justice Smith  tt30007864     actor  Comedy,Fantasy   \n\n                                   primaryTitle  \\\n0                              The Prodigal Son   \n1                              The Prodigal Son   \n2                     Hamlet, Prince of Denmark   \n3                    Abraham Lincoln's Clemency   \n4                    Abraham Lincoln's Clemency   \n...                                         ...   \n624041  The American Society of Magical Negroes   \n624042  The American Society of Magical Negroes   \n624043  The American Society of Magical Negroes   \n624044  The American Society of Magical Negroes   \n624045  The American Society of Magical Negroes   \n\n                                  originalTitle startYear  averageRating  \n0                             L'enfant prodigue      1907            5.6  \n1                             L'enfant prodigue      1907            5.6  \n2                                        Hamlet      1910            4.5  \n3                    Abraham Lincoln's Clemency      1910            4.8  \n4                    Abraham Lincoln's Clemency      1910            4.8  \n...                                         ...       ...            ...  \n624041  The American Society of Magical Negroes      2024            3.8  \n624042  The American Society of Magical Negroes      2024            3.8  \n624043  The American Society of Magical Negroes      2024            3.8  \n624044  The American Society of Magical Negroes      2024            3.8  \n624045  The American Society of Magical Negroes      2024            3.8  \n\n[624046 rows x 9 columns]",
                        "text/html": "<div>\n<style scoped>\n    .dataframe tbody tr th:only-of-type {\n        vertical-align: middle;\n    }\n\n    .dataframe tbody tr th {\n        vertical-align: top;\n    }\n\n    .dataframe thead th {\n        text-align: right;\n    }\n</style>\n<table border=\"1\" class=\"dataframe\">\n  <thead>\n    <tr style=\"text-align: right;\">\n      <th></th>\n      <th>nconst</th>\n      <th>primaryName</th>\n      <th>tconst</th>\n      <th>category</th>\n      <th>genres</th>\n      <th>primaryTitle</th>\n      <th>originalTitle</th>\n      <th>startYear</th>\n      <th>averageRating</th>\n    </tr>\n  </thead>\n  <tbody>\n    <tr>\n      <th>0</th>\n      <td>nm0141150</td>\n      <td>Michel Carré</td>\n      <td>tt0000591</td>\n      <td>director</td>\n      <td>Drama</td>\n      <td>The Prodigal Son</td>\n      <td>L'enfant prodigue</td>\n      <td>1907</td>\n      <td>5.6</td>\n    </tr>\n    <tr>\n      <th>1</th>\n      <td>nm0141150</td>\n      <td>Michel Carré</td>\n      <td>tt0000591</td>\n      <td>writer</td>\n      <td>Drama</td>\n      <td>The Prodigal Son</td>\n      <td>L'enfant prodigue</td>\n      <td>1907</td>\n      <td>5.6</td>\n    </tr>\n    <tr>\n      <th>2</th>\n      <td>nm0000636</td>\n      <td>William Shakespeare</td>\n      <td>tt0000886</td>\n      <td>writer</td>\n      <td>Drama</td>\n      <td>Hamlet, Prince of Denmark</td>\n      <td>Hamlet</td>\n      <td>1910</td>\n      <td>4.5</td>\n    </tr>\n    <tr>\n      <th>3</th>\n      <td>nm0923594</td>\n      <td>Leopold Wharton</td>\n      <td>tt0001101</td>\n      <td>actor</td>\n      <td>\\N</td>\n      <td>Abraham Lincoln's Clemency</td>\n      <td>Abraham Lincoln's Clemency</td>\n      <td>1910</td>\n      <td>4.8</td>\n    </tr>\n    <tr>\n      <th>4</th>\n      <td>nm0923603</td>\n      <td>Theodore Wharton</td>\n      <td>tt0001101</td>\n      <td>director</td>\n      <td>\\N</td>\n      <td>Abraham Lincoln's Clemency</td>\n      <td>Abraham Lincoln's Clemency</td>\n      <td>1910</td>\n      <td>4.8</td>\n    </tr>\n    <tr>\n      <th>...</th>\n      <td>...</td>\n      <td>...</td>\n      <td>...</td>\n      <td>...</td>\n      <td>...</td>\n      <td>...</td>\n      <td>...</td>\n      <td>...</td>\n      <td>...</td>\n    </tr>\n    <tr>\n      <th>624041</th>\n      <td>nm3633426</td>\n      <td>Kobi Libii</td>\n      <td>tt30007864</td>\n      <td>director</td>\n      <td>Comedy,Fantasy</td>\n      <td>The American Society of Magical Negroes</td>\n      <td>The American Society of Magical Negroes</td>\n      <td>2024</td>\n      <td>3.8</td>\n    </tr>\n    <tr>\n      <th>624042</th>\n      <td>nm3633426</td>\n      <td>Kobi Libii</td>\n      <td>tt30007864</td>\n      <td>writer</td>\n      <td>Comedy,Fantasy</td>\n      <td>The American Society of Magical Negroes</td>\n      <td>The American Society of Magical Negroes</td>\n      <td>2024</td>\n      <td>3.8</td>\n    </tr>\n    <tr>\n      <th>624043</th>\n      <td>nm3633426</td>\n      <td>Kobi Libii</td>\n      <td>tt30007864</td>\n      <td>producer</td>\n      <td>Comedy,Fantasy</td>\n      <td>The American Society of Magical Negroes</td>\n      <td>The American Society of Magical Negroes</td>\n      <td>2024</td>\n      <td>3.8</td>\n    </tr>\n    <tr>\n      <th>624044</th>\n      <td>nm3649782</td>\n      <td>Angel Lopez</td>\n      <td>tt30007864</td>\n      <td>producer</td>\n      <td>Comedy,Fantasy</td>\n      <td>The American Society of Magical Negroes</td>\n      <td>The American Society of Magical Negroes</td>\n      <td>2024</td>\n      <td>3.8</td>\n    </tr>\n    <tr>\n      <th>624045</th>\n      <td>nm6819854</td>\n      <td>Justice Smith</td>\n      <td>tt30007864</td>\n      <td>actor</td>\n      <td>Comedy,Fantasy</td>\n      <td>The American Society of Magical Negroes</td>\n      <td>The American Society of Magical Negroes</td>\n      <td>2024</td>\n      <td>3.8</td>\n    </tr>\n  </tbody>\n</table>\n<p>624046 rows × 9 columns</p>\n</div>"
                    },
                    "metadata": {}
                }
            ],
            "outputs_reference": "s3:deepnote-cell-outputs-production/1cef4b6a-49ec-4e08-8bf4-a497543e7f75",
            "content_dependencies": null
        },
        {
            "cell_type": "markdown",
            "metadata": {
                "checked": false,
                "formattedRanges": [],
                "cell_id": "45f10bff52ab4b208f09bcb17c55a465",
                "deepnote_cell_type": "text-cell-p"
            },
            "source": "",
            "block_group": "b5c5436466984774a3ef08f4ed4d4b93"
        },
        {
            "cell_type": "code",
            "metadata": {
                "source_hash": "4d463e01",
                "execution_start": 1748612880436,
                "execution_millis": 486,
                "deepnote_table_state": {
                    "sortBy": [],
                    "filters": [],
                    "pageSize": 25,
                    "pageIndex": 0,
                    "columnOrder": [
                        "tconst",
                        "title",
                        "primaryTitle",
                        "genres",
                        "runtimeMinutes",
                        "startYear",
                        "averageRating",
                        "numVotes",
                        "nconst",
                        "primaryName",
                        "category"
                    ],
                    "hiddenColumnIds": [],
                    "columnDisplayNames": [],
                    "conditionalFilters": [],
                    "cellFormattingRules": [],
                    "wrappedTextColumnIds": []
                },
                "execution_context_id": "4e5321f0-ec9f-41a2-9781-65b6aeff5125",
                "deepnote_table_loading": false,
                "cell_id": "37f6a666a4aa4c728118fd1332fc570f",
                "deepnote_cell_type": "code"
            },
            "source": "df_people_grouped = df_imdb_people.groupby('nconst')\ndf_people_grouped.head()",
            "block_group": "607ba5e093144f6fab2f87d906ccdb71",
            "execution_count": 64,
            "outputs": [
                {
                    "output_type": "execute_result",
                    "execution_count": 64,
                    "data": {
                        "application/vnd.deepnote.dataframe.v3+json": {
                            "column_count": 9,
                            "row_count": 289143,
                            "columns": [
                                {
                                    "name": "nconst",
                                    "dtype": "object"
                                },
                                {
                                    "name": "primaryName",
                                    "dtype": "object"
                                },
                                {
                                    "name": "tconst",
                                    "dtype": "object"
                                },
                                {
                                    "name": "category",
                                    "dtype": "object"
                                },
                                {
                                    "name": "genres",
                                    "dtype": "object"
                                },
                                {
                                    "name": "primaryTitle",
                                    "dtype": "object"
                                },
                                {
                                    "name": "originalTitle",
                                    "dtype": "object"
                                },
                                {
                                    "name": "startYear",
                                    "dtype": "object"
                                },
                                {
                                    "name": "averageRating",
                                    "dtype": "float64"
                                },
                                {
                                    "name": "_deepnote_index_column",
                                    "dtype": "int64"
                                }
                            ],
                            "rows": [
                                {
                                    "nconst": "nm0141150",
                                    "primaryName": "Michel Carré",
                                    "tconst": "tt0000591",
                                    "category": "director",
                                    "genres": "Drama",
                                    "primaryTitle": "The Prodigal Son",
                                    "originalTitle": "L'enfant prodigue",
                                    "startYear": "1907",
                                    "averageRating": 5.6,
                                    "_deepnote_index_column": 0
                                },
                                {
                                    "nconst": "nm0141150",
                                    "primaryName": "Michel Carré",
                                    "tconst": "tt0000591",
                                    "category": "writer",
                                    "genres": "Drama",
                                    "primaryTitle": "The Prodigal Son",
                                    "originalTitle": "L'enfant prodigue",
                                    "startYear": "1907",
                                    "averageRating": 5.6,
                                    "_deepnote_index_column": 1
                                },
                                {
                                    "nconst": "nm0000636",
                                    "primaryName": "William Shakespeare",
                                    "tconst": "tt0000886",
                                    "category": "writer",
                                    "genres": "Drama",
                                    "primaryTitle": "Hamlet, Prince of Denmark",
                                    "originalTitle": "Hamlet",
                                    "startYear": "1910",
                                    "averageRating": 4.5,
                                    "_deepnote_index_column": 2
                                },
                                {
                                    "nconst": "nm0923594",
                                    "primaryName": "Leopold Wharton",
                                    "tconst": "tt0001101",
                                    "category": "actor",
                                    "genres": "\\N",
                                    "primaryTitle": "Abraham Lincoln's Clemency",
                                    "originalTitle": "Abraham Lincoln's Clemency",
                                    "startYear": "1910",
                                    "averageRating": 4.8,
                                    "_deepnote_index_column": 3
                                },
                                {
                                    "nconst": "nm0923603",
                                    "primaryName": "Theodore Wharton",
                                    "tconst": "tt0001101",
                                    "category": "director",
                                    "genres": "\\N",
                                    "primaryTitle": "Abraham Lincoln's Clemency",
                                    "originalTitle": "Abraham Lincoln's Clemency",
                                    "startYear": "1910",
                                    "averageRating": 4.8,
                                    "_deepnote_index_column": 4
                                },
                                {
                                    "nconst": "nm0923603",
                                    "primaryName": "Theodore Wharton",
                                    "tconst": "tt0001101",
                                    "category": "producer",
                                    "genres": "\\N",
                                    "primaryTitle": "Abraham Lincoln's Clemency",
                                    "originalTitle": "Abraham Lincoln's Clemency",
                                    "startYear": "1910",
                                    "averageRating": 4.8,
                                    "_deepnote_index_column": 5
                                },
                                {
                                    "nconst": "nm0051304",
                                    "primaryName": "Honoré de Balzac",
                                    "tconst": "tt0001122",
                                    "category": "writer",
                                    "genres": "\\N",
                                    "primaryTitle": "The Red Inn",
                                    "originalTitle": "L'auberge rouge",
                                    "startYear": "1910",
                                    "averageRating": 4.9,
                                    "_deepnote_index_column": 6
                                },
                                {
                                    "nconst": "nm0154988",
                                    "primaryName": "Jeanne Cheirel",
                                    "tconst": "tt0001122",
                                    "category": "actress",
                                    "genres": "\\N",
                                    "primaryTitle": "The Red Inn",
                                    "originalTitle": "L'auberge rouge",
                                    "startYear": "1910",
                                    "averageRating": 4.9,
                                    "_deepnote_index_column": 7
                                },
                                {
                                    "nconst": "nm0304098",
                                    "primaryName": "Abel Gance",
                                    "tconst": "tt0001122",
                                    "category": "writer",
                                    "genres": "\\N",
                                    "primaryTitle": "The Red Inn",
                                    "originalTitle": "L'auberge rouge",
                                    "startYear": "1910",
                                    "averageRating": 4.9,
                                    "_deepnote_index_column": 8
                                },
                                {
                                    "nconst": "nm0076800",
                                    "primaryName": "Sarah Bernhardt",
                                    "tconst": "tt0001175",
                                    "category": "actress",
                                    "genres": "Drama,Romance",
                                    "primaryTitle": "Camille",
                                    "originalTitle": "La dame aux camélias",
                                    "startYear": "1912",
                                    "averageRating": 5.4,
                                    "_deepnote_index_column": 9
                                },
                                {
                                    "nconst": "nm0130633",
                                    "primaryName": "André Calmettes",
                                    "tconst": "tt0001175",
                                    "category": "director",
                                    "genres": "Drama,Romance",
                                    "primaryTitle": "Camille",
                                    "originalTitle": "La dame aux camélias",
                                    "startYear": "1912",
                                    "averageRating": 5.4,
                                    "_deepnote_index_column": 10
                                },
                                {
                                    "nconst": "nm0221142",
                                    "primaryName": "Henri Desfontaines",
                                    "tconst": "tt0001175",
                                    "category": "actor",
                                    "genres": "Drama,Romance",
                                    "primaryTitle": "Camille",
                                    "originalTitle": "La dame aux camélias",
                                    "startYear": "1912",
                                    "averageRating": 5.4,
                                    "_deepnote_index_column": 11
                                },
                                {
                                    "nconst": "nm0561109",
                                    "primaryName": "Clément Maurice",
                                    "tconst": "tt0001175",
                                    "category": "cinematographer",
                                    "genres": "Drama,Romance",
                                    "primaryTitle": "Camille",
                                    "originalTitle": "La dame aux camélias",
                                    "startYear": "1912",
                                    "averageRating": 5.4,
                                    "_deepnote_index_column": 12
                                },
                                {
                                    "nconst": "nm0580197",
                                    "primaryName": "Louis Mercanton",
                                    "tconst": "tt0001175",
                                    "category": "director",
                                    "genres": "Drama,Romance",
                                    "primaryTitle": "Camille",
                                    "originalTitle": "La dame aux camélias",
                                    "startYear": "1912",
                                    "averageRating": 5.4,
                                    "_deepnote_index_column": 13
                                },
                                {
                                    "nconst": "nm0693516",
                                    "primaryName": "Henri Pouctal",
                                    "tconst": "tt0001175",
                                    "category": "actor",
                                    "genres": "Drama,Romance",
                                    "primaryTitle": "Camille",
                                    "originalTitle": "La dame aux camélias",
                                    "startYear": "1912",
                                    "averageRating": 5.4,
                                    "_deepnote_index_column": 14
                                },
                                {
                                    "nconst": "nm0693516",
                                    "primaryName": "Henri Pouctal",
                                    "tconst": "tt0001175",
                                    "category": "director",
                                    "genres": "Drama,Romance",
                                    "primaryTitle": "Camille",
                                    "originalTitle": "La dame aux camélias",
                                    "startYear": "1912",
                                    "averageRating": 5.4,
                                    "_deepnote_index_column": 15
                                },
                                {
                                    "nconst": "nm0693516",
                                    "primaryName": "Henri Pouctal",
                                    "tconst": "tt0001175",
                                    "category": "writer",
                                    "genres": "Drama,Romance",
                                    "primaryTitle": "Camille",
                                    "originalTitle": "La dame aux camélias",
                                    "startYear": "1912",
                                    "averageRating": 5.4,
                                    "_deepnote_index_column": 16
                                },
                                {
                                    "nconst": "nm0854414",
                                    "primaryName": "Lou Tellegen",
                                    "tconst": "tt0001175",
                                    "category": "actor",
                                    "genres": "Drama,Romance",
                                    "primaryTitle": "Camille",
                                    "originalTitle": "La dame aux camélias",
                                    "startYear": "1912",
                                    "averageRating": 5.4,
                                    "_deepnote_index_column": 17
                                },
                                {
                                    "nconst": "nm0085865",
                                    "primaryName": "J. Stuart Blackton",
                                    "tconst": "tt0001285",
                                    "category": "director",
                                    "genres": "Biography,Drama,Family",
                                    "primaryTitle": "The Life of Moses",
                                    "originalTitle": "The Life of Moses",
                                    "startYear": "1909",
                                    "averageRating": 5.5,
                                    "_deepnote_index_column": 18
                                },
                                {
                                    "nconst": "nm0366742",
                                    "primaryName": "Pat Hartigan",
                                    "tconst": "tt0001285",
                                    "category": "actor",
                                    "genres": "Biography,Drama,Family",
                                    "primaryTitle": "The Life of Moses",
                                    "originalTitle": "The Life of Moses",
                                    "startYear": "1909",
                                    "averageRating": 5.5,
                                    "_deepnote_index_column": 19
                                },
                                {
                                    "nconst": "nm0401967",
                                    "primaryName": "William Humphrey",
                                    "tconst": "tt0001285",
                                    "category": "actor",
                                    "genres": "Biography,Drama,Family",
                                    "primaryTitle": "The Life of Moses",
                                    "originalTitle": "The Life of Moses",
                                    "startYear": "1909",
                                    "averageRating": 5.5,
                                    "_deepnote_index_column": 20
                                },
                                {
                                    "nconst": "nm0448682",
                                    "primaryName": "Charles Kent",
                                    "tconst": "tt0001285",
                                    "category": "actor",
                                    "genres": "Biography,Drama,Family",
                                    "primaryTitle": "The Life of Moses",
                                    "originalTitle": "The Life of Moses",
                                    "startYear": "1909",
                                    "averageRating": 5.5,
                                    "_deepnote_index_column": 21
                                },
                                {
                                    "nconst": "nm0304098",
                                    "primaryName": "Abel Gance",
                                    "tconst": "tt0001386",
                                    "category": "writer",
                                    "genres": "\\N",
                                    "primaryTitle": "Le roi des parfums",
                                    "originalTitle": "Le roi des parfums",
                                    "startYear": "1910",
                                    "averageRating": 4.3,
                                    "_deepnote_index_column": 22
                                },
                                {
                                    "nconst": "nm0227602",
                                    "primaryName": "Robert Dinesen",
                                    "tconst": "tt0001614",
                                    "category": "actor",
                                    "genres": "Drama",
                                    "primaryTitle": "The Four Devils",
                                    "originalTitle": "De fire djævle",
                                    "startYear": "1911",
                                    "averageRating": 6.5,
                                    "_deepnote_index_column": 23
                                },
                                {
                                    "nconst": "nm0227602",
                                    "primaryName": "Robert Dinesen",
                                    "tconst": "tt0001614",
                                    "category": "director",
                                    "genres": "Drama",
                                    "primaryTitle": "The Four Devils",
                                    "originalTitle": "De fire djævle",
                                    "startYear": "1911",
                                    "averageRating": 6.5,
                                    "_deepnote_index_column": 24
                                }
                            ],
                            "type": "dataframe"
                        },
                        "text/plain": "           nconst          primaryName      tconst  category          genres  \\\n0       nm0141150         Michel Carré   tt0000591  director           Drama   \n1       nm0141150         Michel Carré   tt0000591    writer           Drama   \n2       nm0000636  William Shakespeare   tt0000886    writer           Drama   \n3       nm0923594      Leopold Wharton   tt0001101     actor              \\N   \n4       nm0923603     Theodore Wharton   tt0001101  director              \\N   \n...           ...                  ...         ...       ...             ...   \n624041  nm3633426           Kobi Libii  tt30007864  director  Comedy,Fantasy   \n624042  nm3633426           Kobi Libii  tt30007864    writer  Comedy,Fantasy   \n624043  nm3633426           Kobi Libii  tt30007864  producer  Comedy,Fantasy   \n624044  nm3649782          Angel Lopez  tt30007864  producer  Comedy,Fantasy   \n624045  nm6819854        Justice Smith  tt30007864     actor  Comedy,Fantasy   \n\n                                   primaryTitle  \\\n0                              The Prodigal Son   \n1                              The Prodigal Son   \n2                     Hamlet, Prince of Denmark   \n3                    Abraham Lincoln's Clemency   \n4                    Abraham Lincoln's Clemency   \n...                                         ...   \n624041  The American Society of Magical Negroes   \n624042  The American Society of Magical Negroes   \n624043  The American Society of Magical Negroes   \n624044  The American Society of Magical Negroes   \n624045  The American Society of Magical Negroes   \n\n                                  originalTitle startYear  averageRating  \n0                             L'enfant prodigue      1907            5.6  \n1                             L'enfant prodigue      1907            5.6  \n2                                        Hamlet      1910            4.5  \n3                    Abraham Lincoln's Clemency      1910            4.8  \n4                    Abraham Lincoln's Clemency      1910            4.8  \n...                                         ...       ...            ...  \n624041  The American Society of Magical Negroes      2024            3.8  \n624042  The American Society of Magical Negroes      2024            3.8  \n624043  The American Society of Magical Negroes      2024            3.8  \n624044  The American Society of Magical Negroes      2024            3.8  \n624045  The American Society of Magical Negroes      2024            3.8  \n\n[289143 rows x 9 columns]",
                        "text/html": "<div>\n<style scoped>\n    .dataframe tbody tr th:only-of-type {\n        vertical-align: middle;\n    }\n\n    .dataframe tbody tr th {\n        vertical-align: top;\n    }\n\n    .dataframe thead th {\n        text-align: right;\n    }\n</style>\n<table border=\"1\" class=\"dataframe\">\n  <thead>\n    <tr style=\"text-align: right;\">\n      <th></th>\n      <th>nconst</th>\n      <th>primaryName</th>\n      <th>tconst</th>\n      <th>category</th>\n      <th>genres</th>\n      <th>primaryTitle</th>\n      <th>originalTitle</th>\n      <th>startYear</th>\n      <th>averageRating</th>\n    </tr>\n  </thead>\n  <tbody>\n    <tr>\n      <th>0</th>\n      <td>nm0141150</td>\n      <td>Michel Carré</td>\n      <td>tt0000591</td>\n      <td>director</td>\n      <td>Drama</td>\n      <td>The Prodigal Son</td>\n      <td>L'enfant prodigue</td>\n      <td>1907</td>\n      <td>5.6</td>\n    </tr>\n    <tr>\n      <th>1</th>\n      <td>nm0141150</td>\n      <td>Michel Carré</td>\n      <td>tt0000591</td>\n      <td>writer</td>\n      <td>Drama</td>\n      <td>The Prodigal Son</td>\n      <td>L'enfant prodigue</td>\n      <td>1907</td>\n      <td>5.6</td>\n    </tr>\n    <tr>\n      <th>2</th>\n      <td>nm0000636</td>\n      <td>William Shakespeare</td>\n      <td>tt0000886</td>\n      <td>writer</td>\n      <td>Drama</td>\n      <td>Hamlet, Prince of Denmark</td>\n      <td>Hamlet</td>\n      <td>1910</td>\n      <td>4.5</td>\n    </tr>\n    <tr>\n      <th>3</th>\n      <td>nm0923594</td>\n      <td>Leopold Wharton</td>\n      <td>tt0001101</td>\n      <td>actor</td>\n      <td>\\N</td>\n      <td>Abraham Lincoln's Clemency</td>\n      <td>Abraham Lincoln's Clemency</td>\n      <td>1910</td>\n      <td>4.8</td>\n    </tr>\n    <tr>\n      <th>4</th>\n      <td>nm0923603</td>\n      <td>Theodore Wharton</td>\n      <td>tt0001101</td>\n      <td>director</td>\n      <td>\\N</td>\n      <td>Abraham Lincoln's Clemency</td>\n      <td>Abraham Lincoln's Clemency</td>\n      <td>1910</td>\n      <td>4.8</td>\n    </tr>\n    <tr>\n      <th>...</th>\n      <td>...</td>\n      <td>...</td>\n      <td>...</td>\n      <td>...</td>\n      <td>...</td>\n      <td>...</td>\n      <td>...</td>\n      <td>...</td>\n      <td>...</td>\n    </tr>\n    <tr>\n      <th>624041</th>\n      <td>nm3633426</td>\n      <td>Kobi Libii</td>\n      <td>tt30007864</td>\n      <td>director</td>\n      <td>Comedy,Fantasy</td>\n      <td>The American Society of Magical Negroes</td>\n      <td>The American Society of Magical Negroes</td>\n      <td>2024</td>\n      <td>3.8</td>\n    </tr>\n    <tr>\n      <th>624042</th>\n      <td>nm3633426</td>\n      <td>Kobi Libii</td>\n      <td>tt30007864</td>\n      <td>writer</td>\n      <td>Comedy,Fantasy</td>\n      <td>The American Society of Magical Negroes</td>\n      <td>The American Society of Magical Negroes</td>\n      <td>2024</td>\n      <td>3.8</td>\n    </tr>\n    <tr>\n      <th>624043</th>\n      <td>nm3633426</td>\n      <td>Kobi Libii</td>\n      <td>tt30007864</td>\n      <td>producer</td>\n      <td>Comedy,Fantasy</td>\n      <td>The American Society of Magical Negroes</td>\n      <td>The American Society of Magical Negroes</td>\n      <td>2024</td>\n      <td>3.8</td>\n    </tr>\n    <tr>\n      <th>624044</th>\n      <td>nm3649782</td>\n      <td>Angel Lopez</td>\n      <td>tt30007864</td>\n      <td>producer</td>\n      <td>Comedy,Fantasy</td>\n      <td>The American Society of Magical Negroes</td>\n      <td>The American Society of Magical Negroes</td>\n      <td>2024</td>\n      <td>3.8</td>\n    </tr>\n    <tr>\n      <th>624045</th>\n      <td>nm6819854</td>\n      <td>Justice Smith</td>\n      <td>tt30007864</td>\n      <td>actor</td>\n      <td>Comedy,Fantasy</td>\n      <td>The American Society of Magical Negroes</td>\n      <td>The American Society of Magical Negroes</td>\n      <td>2024</td>\n      <td>3.8</td>\n    </tr>\n  </tbody>\n</table>\n<p>289143 rows × 9 columns</p>\n</div>"
                    },
                    "metadata": {}
                }
            ],
            "outputs_reference": "s3:deepnote-cell-outputs-production/589b56a8-e536-4017-90f8-326f33e721fb",
            "content_dependencies": null
        },
        {
            "cell_type": "code",
            "metadata": {
                "source_hash": "37b031db",
                "execution_start": 1748612896362,
                "execution_millis": 9589,
                "execution_context_id": "4e5321f0-ec9f-41a2-9781-65b6aeff5125",
                "cell_id": "8a77acb2b49141c2a4eaf727cb74638a",
                "deepnote_cell_type": "code"
            },
            "source": "df_imdb_people.to_csv('/work/IMDB_FR_PEOPLE.tsv.gz',sep='\\t',index=False,compression='gzip')",
            "block_group": "423d5050cc424b279c34d059639d5f5d",
            "execution_count": 69,
            "outputs": [],
            "outputs_reference": null,
            "content_dependencies": null
        },
        {
            "cell_type": "code",
            "metadata": {
                "source_hash": "7d4f024d",
                "execution_start": 1748612807652,
                "execution_millis": 900,
                "execution_context_id": "4e5321f0-ec9f-41a2-9781-65b6aeff5125",
                "cell_id": "07df15d52c1f44c18259a4165677898f",
                "deepnote_cell_type": "code"
            },
            "source": "df_tmdb_fr = pd.read_csv('/work/TMDB_FR.tsv.gz',sep='\\t')",
            "block_group": "264be2cbb1cf4f51ae466537669d4ae6",
            "execution_count": 25,
            "outputs": [
                {
                    "output_type": "error",
                    "ename": "ParserError",
                    "evalue": "Error tokenizing data. C error: Buffer overflow caught - possible malformed input file.\n",
                    "traceback": [
                        "\u001b[0;31m---------------------------------------------------------------------------\u001b[0m",
                        "\u001b[0;31mParserError\u001b[0m                               Traceback (most recent call last)",
                        "Cell \u001b[0;32mIn[25], line 1\u001b[0m\n\u001b[0;32m----> 1\u001b[0m df_tmdb_fr \u001b[38;5;241m=\u001b[39m \u001b[43mpd\u001b[49m\u001b[38;5;241;43m.\u001b[39;49m\u001b[43mread_csv\u001b[49m\u001b[43m(\u001b[49m\u001b[38;5;124;43m'\u001b[39;49m\u001b[38;5;124;43m/work/TMDB_FR.tsv.gz\u001b[39;49m\u001b[38;5;124;43m'\u001b[39;49m\u001b[43m,\u001b[49m\u001b[43msep\u001b[49m\u001b[38;5;241;43m=\u001b[39;49m\u001b[38;5;124;43m'\u001b[39;49m\u001b[38;5;130;43;01m\\t\u001b[39;49;00m\u001b[38;5;124;43m'\u001b[39;49m\u001b[43m)\u001b[49m\n",
                        "File \u001b[0;32m~/venv/lib/python3.9/site-packages/pandas/io/parsers/readers.py:948\u001b[0m, in \u001b[0;36mread_csv\u001b[0;34m(filepath_or_buffer, sep, delimiter, header, names, index_col, usecols, dtype, engine, converters, true_values, false_values, skipinitialspace, skiprows, skipfooter, nrows, na_values, keep_default_na, na_filter, verbose, skip_blank_lines, parse_dates, infer_datetime_format, keep_date_col, date_parser, date_format, dayfirst, cache_dates, iterator, chunksize, compression, thousands, decimal, lineterminator, quotechar, quoting, doublequote, escapechar, comment, encoding, encoding_errors, dialect, on_bad_lines, delim_whitespace, low_memory, memory_map, float_precision, storage_options, dtype_backend)\u001b[0m\n\u001b[1;32m    935\u001b[0m kwds_defaults \u001b[38;5;241m=\u001b[39m _refine_defaults_read(\n\u001b[1;32m    936\u001b[0m     dialect,\n\u001b[1;32m    937\u001b[0m     delimiter,\n\u001b[0;32m   (...)\u001b[0m\n\u001b[1;32m    944\u001b[0m     dtype_backend\u001b[38;5;241m=\u001b[39mdtype_backend,\n\u001b[1;32m    945\u001b[0m )\n\u001b[1;32m    946\u001b[0m kwds\u001b[38;5;241m.\u001b[39mupdate(kwds_defaults)\n\u001b[0;32m--> 948\u001b[0m \u001b[38;5;28;01mreturn\u001b[39;00m \u001b[43m_read\u001b[49m\u001b[43m(\u001b[49m\u001b[43mfilepath_or_buffer\u001b[49m\u001b[43m,\u001b[49m\u001b[43m \u001b[49m\u001b[43mkwds\u001b[49m\u001b[43m)\u001b[49m\n",
                        "File \u001b[0;32m~/venv/lib/python3.9/site-packages/pandas/io/parsers/readers.py:617\u001b[0m, in \u001b[0;36m_read\u001b[0;34m(filepath_or_buffer, kwds)\u001b[0m\n\u001b[1;32m    614\u001b[0m     \u001b[38;5;28;01mreturn\u001b[39;00m parser\n\u001b[1;32m    616\u001b[0m \u001b[38;5;28;01mwith\u001b[39;00m parser:\n\u001b[0;32m--> 617\u001b[0m     \u001b[38;5;28;01mreturn\u001b[39;00m \u001b[43mparser\u001b[49m\u001b[38;5;241;43m.\u001b[39;49m\u001b[43mread\u001b[49m\u001b[43m(\u001b[49m\u001b[43mnrows\u001b[49m\u001b[43m)\u001b[49m\n",
                        "File \u001b[0;32m~/venv/lib/python3.9/site-packages/pandas/io/parsers/readers.py:1748\u001b[0m, in \u001b[0;36mTextFileReader.read\u001b[0;34m(self, nrows)\u001b[0m\n\u001b[1;32m   1741\u001b[0m nrows \u001b[38;5;241m=\u001b[39m validate_integer(\u001b[38;5;124m\"\u001b[39m\u001b[38;5;124mnrows\u001b[39m\u001b[38;5;124m\"\u001b[39m, nrows)\n\u001b[1;32m   1742\u001b[0m \u001b[38;5;28;01mtry\u001b[39;00m:\n\u001b[1;32m   1743\u001b[0m     \u001b[38;5;66;03m# error: \"ParserBase\" has no attribute \"read\"\u001b[39;00m\n\u001b[1;32m   1744\u001b[0m     (\n\u001b[1;32m   1745\u001b[0m         index,\n\u001b[1;32m   1746\u001b[0m         columns,\n\u001b[1;32m   1747\u001b[0m         col_dict,\n\u001b[0;32m-> 1748\u001b[0m     ) \u001b[38;5;241m=\u001b[39m \u001b[38;5;28;43mself\u001b[39;49m\u001b[38;5;241;43m.\u001b[39;49m\u001b[43m_engine\u001b[49m\u001b[38;5;241;43m.\u001b[39;49m\u001b[43mread\u001b[49m\u001b[43m(\u001b[49m\u001b[43m  \u001b[49m\u001b[38;5;66;43;03m# type: ignore[attr-defined]\u001b[39;49;00m\n\u001b[1;32m   1749\u001b[0m \u001b[43m        \u001b[49m\u001b[43mnrows\u001b[49m\n\u001b[1;32m   1750\u001b[0m \u001b[43m    \u001b[49m\u001b[43m)\u001b[49m\n\u001b[1;32m   1751\u001b[0m \u001b[38;5;28;01mexcept\u001b[39;00m \u001b[38;5;167;01mException\u001b[39;00m:\n\u001b[1;32m   1752\u001b[0m     \u001b[38;5;28mself\u001b[39m\u001b[38;5;241m.\u001b[39mclose()\n",
                        "File \u001b[0;32m~/venv/lib/python3.9/site-packages/pandas/io/parsers/c_parser_wrapper.py:234\u001b[0m, in \u001b[0;36mCParserWrapper.read\u001b[0;34m(self, nrows)\u001b[0m\n\u001b[1;32m    232\u001b[0m \u001b[38;5;28;01mtry\u001b[39;00m:\n\u001b[1;32m    233\u001b[0m     \u001b[38;5;28;01mif\u001b[39;00m \u001b[38;5;28mself\u001b[39m\u001b[38;5;241m.\u001b[39mlow_memory:\n\u001b[0;32m--> 234\u001b[0m         chunks \u001b[38;5;241m=\u001b[39m \u001b[38;5;28;43mself\u001b[39;49m\u001b[38;5;241;43m.\u001b[39;49m\u001b[43m_reader\u001b[49m\u001b[38;5;241;43m.\u001b[39;49m\u001b[43mread_low_memory\u001b[49m\u001b[43m(\u001b[49m\u001b[43mnrows\u001b[49m\u001b[43m)\u001b[49m\n\u001b[1;32m    235\u001b[0m         \u001b[38;5;66;03m# destructive to chunks\u001b[39;00m\n\u001b[1;32m    236\u001b[0m         data \u001b[38;5;241m=\u001b[39m _concatenate_chunks(chunks)\n",
                        "File \u001b[0;32mparsers.pyx:843\u001b[0m, in \u001b[0;36mpandas._libs.parsers.TextReader.read_low_memory\u001b[0;34m()\u001b[0m\n",
                        "File \u001b[0;32mparsers.pyx:904\u001b[0m, in \u001b[0;36mpandas._libs.parsers.TextReader._read_rows\u001b[0;34m()\u001b[0m\n",
                        "File \u001b[0;32mparsers.pyx:879\u001b[0m, in \u001b[0;36mpandas._libs.parsers.TextReader._tokenize_rows\u001b[0;34m()\u001b[0m\n",
                        "File \u001b[0;32mparsers.pyx:890\u001b[0m, in \u001b[0;36mpandas._libs.parsers.TextReader._check_tokenize_status\u001b[0;34m()\u001b[0m\n",
                        "File \u001b[0;32mparsers.pyx:2058\u001b[0m, in \u001b[0;36mpandas._libs.parsers.raise_parser_error\u001b[0;34m()\u001b[0m\n",
                        "\u001b[0;31mParserError\u001b[0m: Error tokenizing data. C error: Buffer overflow caught - possible malformed input file.\n"
                    ]
                }
            ],
            "outputs_reference": "s3:deepnote-cell-outputs-production/6cf3d858-43ef-4850-9395-253b45924cc5",
            "content_dependencies": null
        },
        {
            "cell_type": "code",
            "metadata": {
                "cell_id": "8c2f3d4dd2b747439c6e713c904013c1",
                "deepnote_cell_type": "code"
            },
            "source": "df_full_movies = pd.merge(df_movies_cleaned,df_tmdb_fr,how='left',on = 'tconst')",
            "block_group": "b24fd9336aac43d9a5329714cf556cc7",
            "execution_count": null,
            "outputs": [],
            "outputs_reference": null,
            "content_dependencies": null
        },
        {
            "cell_type": "markdown",
            "source": "<a style='text-decoration:none;line-height:16px;display:flex;color:#5B5B62;padding:10px;justify-content:end;' href='https://deepnote.com?utm_source=created-in-deepnote-cell&projectId=995b3f48-5c17-417d-a857-1b8716819a2d' target=\"_blank\">\n<img alt='Created in deepnote.com' style='display:inline;max-height:16px;margin:0px;margin-right:7.5px;' src='data:image/svg+xml;base64,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' > </img>\nCreated in <span style='font-weight:600;margin-left:4px;'>Deepnote</span></a>",
            "metadata": {
                "created_in_deepnote_cell": true,
                "deepnote_cell_type": "markdown"
            }
        }
    ],
    "nbformat": 4,
    "nbformat_minor": 0,
    "metadata": {
        "deepnote_app_layout": "powerful-article",
        "deepnote_app_reactivity_enabled": true,
        "deepnote_notebook_id": "f4f3bb1be3714728ab02533607790172"
    }
}